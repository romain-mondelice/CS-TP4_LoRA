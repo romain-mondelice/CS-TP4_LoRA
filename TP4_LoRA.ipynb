{
  "cells": [
    {
      "cell_type": "markdown",
      "metadata": {
        "cell_ktag": "2aOSDzdHvY5f",
        "id": "FI7Q_Hkmc3je"
      },
      "source": [
        "# Implementing a Low Rank Adapter (LoRA) (8 points)\n",
        "\n",
        "Objective of this exercice:\n",
        "\n",
        "Given a neural network (NN) classifier pre-trained on the subset of MNIST containing digits 0...4,\n",
        "you will fine-tune this NN, by optimizing all weights, and compare the test accuracy of this baseline model versus fine-tuning a LoRA.\n",
        "\n",
        "The neural network that we will define is artificially big because LoRA is usually applied to Large Language Models of billions of parameters\n",
        "\n",
        "**What is a LoRA ?**\n",
        "\n",
        "LoRA (Low-Rank Adaptation of Large Language Models) is a popular and lightweight training technique that significantly reduces the number of trainable parameters. It works by inserting a smaller number of new weights into the model and only these are trained. This makes training with LoRA much faster, memory-efficient, and produces smaller model weights (a few hundred MBs), which are easier to store and share.\n",
        "\n",
        "<div style=\"display: flex; justify-content: space-between;\">\n",
        "    <img src='https://www.lri.fr/~gcharpia/deeppractice/2024/TP4/imgs/lora_fig.png' style=\"width: 30%;\">\n",
        "    <img src='https://www.lri.fr/~gcharpia/deeppractice/2024/TP4/imgs/lora_text.png' style=\"width: 70%;\">\n",
        "</div>\n",
        "\n",
        "\n",
        "\n",
        "References:\n",
        "\n",
        "https://arxiv.org/pdf/2106.09685.pdf\n",
        "\n",
        "https://lightning.ai/pages/community/tutorial/lora-llm/\n",
        "\n",
        "https://huggingface.co/docs/diffusers/main/en/training/lora\n"
      ],
      "id": "FI7Q_Hkmc3je"
    },
    {
      "cell_type": "code",
      "execution_count": 1,
      "metadata": {
        "cell_ktag": "2aOSDzdHvY5f",
        "id": "2plJm7Rvc3jg"
      },
      "outputs": [],
      "source": [
        "import torch\n",
        "import torch.nn as nn\n",
        "import torchvision.datasets as datasets\n",
        "from torch.utils.data import DataLoader, random_split, Subset\n",
        "import torch.nn.utils.parametrize as parametrize\n",
        "import torchvision.transforms as transforms\n",
        "import math\n",
        "\n",
        "import numpy as np\n",
        "import matplotlib.pyplot as plt\n",
        "\n",
        "from tqdm import tqdm\n",
        "\n",
        "# Make torch deterministic\n",
        "_ = torch.manual_seed(0)\n",
        "\n",
        "\n",
        "# Decide which device we want to run on\n",
        "ngpu=1\n",
        "device = torch.device(\"cuda:0\" if (torch.cuda.is_available() and ngpu > 0) else \"cpu\")\n",
        "\n",
        "if device.type == 'cuda':\n",
        "    print(torch.cuda.get_device_name(0))\n",
        "    print('Memory Usage:')\n",
        "    print('Allocated:', round(torch.cuda.memory_allocated(0)/1024**3,1), 'GB')\n",
        "    print('Cached:   ', round(torch.cuda.memory_reserved(0)/1024**3,1), 'GB')"
      ],
      "id": "2plJm7Rvc3jg"
    },
    {
      "cell_type": "code",
      "execution_count": 2,
      "metadata": {
        "cell_ktag": "2aOSDzdHvY5f",
        "colab": {
          "base_uri": "https://localhost:8080/"
        },
        "id": "ADC2YjNbc3jg",
        "outputId": "980f204c-74bb-4881-e2eb-0de03892ad56"
      },
      "outputs": [
        {
          "output_type": "stream",
          "name": "stdout",
          "text": [
            "Downloading http://yann.lecun.com/exdb/mnist/train-images-idx3-ubyte.gz\n",
            "Downloading http://yann.lecun.com/exdb/mnist/train-images-idx3-ubyte.gz to ./data/MNIST/raw/train-images-idx3-ubyte.gz\n"
          ]
        },
        {
          "output_type": "stream",
          "name": "stderr",
          "text": [
            "100%|██████████| 9912422/9912422 [00:00<00:00, 66403524.07it/s]\n"
          ]
        },
        {
          "output_type": "stream",
          "name": "stdout",
          "text": [
            "Extracting ./data/MNIST/raw/train-images-idx3-ubyte.gz to ./data/MNIST/raw\n",
            "\n",
            "Downloading http://yann.lecun.com/exdb/mnist/train-labels-idx1-ubyte.gz\n",
            "Downloading http://yann.lecun.com/exdb/mnist/train-labels-idx1-ubyte.gz to ./data/MNIST/raw/train-labels-idx1-ubyte.gz\n"
          ]
        },
        {
          "output_type": "stream",
          "name": "stderr",
          "text": [
            "100%|██████████| 28881/28881 [00:00<00:00, 77651085.78it/s]\n"
          ]
        },
        {
          "output_type": "stream",
          "name": "stdout",
          "text": [
            "Extracting ./data/MNIST/raw/train-labels-idx1-ubyte.gz to ./data/MNIST/raw\n",
            "\n",
            "Downloading http://yann.lecun.com/exdb/mnist/t10k-images-idx3-ubyte.gz\n",
            "Downloading http://yann.lecun.com/exdb/mnist/t10k-images-idx3-ubyte.gz to ./data/MNIST/raw/t10k-images-idx3-ubyte.gz\n"
          ]
        },
        {
          "output_type": "stream",
          "name": "stderr",
          "text": [
            "100%|██████████| 1648877/1648877 [00:00<00:00, 29858525.51it/s]\n"
          ]
        },
        {
          "output_type": "stream",
          "name": "stdout",
          "text": [
            "Extracting ./data/MNIST/raw/t10k-images-idx3-ubyte.gz to ./data/MNIST/raw\n",
            "\n",
            "Downloading http://yann.lecun.com/exdb/mnist/t10k-labels-idx1-ubyte.gz\n",
            "Downloading http://yann.lecun.com/exdb/mnist/t10k-labels-idx1-ubyte.gz to ./data/MNIST/raw/t10k-labels-idx1-ubyte.gz\n"
          ]
        },
        {
          "output_type": "stream",
          "name": "stderr",
          "text": [
            "100%|██████████| 4542/4542 [00:00<00:00, 3786628.66it/s]"
          ]
        },
        {
          "output_type": "stream",
          "name": "stdout",
          "text": [
            "Extracting ./data/MNIST/raw/t10k-labels-idx1-ubyte.gz to ./data/MNIST/raw\n",
            "\n"
          ]
        },
        {
          "output_type": "stream",
          "name": "stderr",
          "text": [
            "\n"
          ]
        }
      ],
      "source": [
        "#Normalizing MNIST\n",
        "#These values are the mean and std deviation of the MNIST dataset.\n",
        "transform = transforms.Compose([transforms.ToTensor(), transforms.Normalize((0.1307,), (0.3081,))])\n",
        "\n",
        "# load MNIST\n",
        "mnist_train = datasets.MNIST(root='./data', train=True, download=True, transform=transform)\n",
        "mnist_test = datasets.MNIST(root='./data', train=False, download=True, transform=transform)\n",
        "\n",
        "# keep images of desired labels\n",
        "class_names = [0, 1, 2, 3, 4]\n",
        "\n",
        "# create a mask to filter indices for each label\n",
        "train_mask = torch.tensor([label in class_names for label in mnist_train.targets])\n",
        "test_mask = torch.tensor([label in class_names for label in mnist_test.targets])\n",
        "\n",
        "# Create Subset datasets for train, validation, and test\n",
        "train_dataset = Subset(mnist_train, torch.where(train_mask)[0])\n",
        "test_dataset = Subset(mnist_test, torch.where(test_mask)[0])\n",
        "\n",
        "# split train into train & validation\n",
        "train_size = int(0.7 * len(train_dataset))\n",
        "val_size = len(train_dataset) - train_size\n",
        "train_dataset, val_dataset = random_split(train_dataset, [train_size, val_size])\n",
        "\n",
        "batch_size=128\n",
        "\n",
        "train_loader = DataLoader(train_dataset, batch_size=batch_size, shuffle=True)\n",
        "val_loader = DataLoader(val_dataset, batch_size=batch_size, shuffle=False)\n",
        "test_loader = DataLoader(test_dataset, batch_size=batch_size, shuffle=False)\n"
      ],
      "id": "ADC2YjNbc3jg"
    },
    {
      "cell_type": "code",
      "execution_count": 3,
      "metadata": {
        "cell_ktag": "2aOSDzdHvY5f",
        "colab": {
          "base_uri": "https://localhost:8080/"
        },
        "id": "BB7yzW2Pc3jh",
        "outputId": "1f6e9aba-dd6e-462a-f4c7-9df67897bc12"
      },
      "outputs": [
        {
          "output_type": "execute_result",
          "data": {
            "text/plain": [
              "(21417, 9179, 5139)"
            ]
          },
          "metadata": {},
          "execution_count": 3
        }
      ],
      "source": [
        "len(train_dataset),len(val_dataset),len(test_dataset)"
      ],
      "id": "BB7yzW2Pc3jh"
    },
    {
      "cell_type": "markdown",
      "metadata": {
        "cell_ktag": "2aOSDzdHvY5f",
        "id": "olXUMiT7c3jh"
      },
      "source": [
        "# Architecture of the classifier"
      ],
      "id": "olXUMiT7c3jh"
    },
    {
      "cell_type": "code",
      "execution_count": 4,
      "metadata": {
        "cell_ktag": "2aOSDzdHvY5f",
        "id": "9BPPBhfCc3jh"
      },
      "outputs": [],
      "source": [
        "#note that last layer has 5 neurons for digits 0...4\n",
        "#and the same layer will be used for 5...9\n",
        "\n",
        "class classifier(nn.Module):\n",
        "    def __init__(self, hidden_size_1=1000, hidden_size_2=2000):\n",
        "        super(classifier,self).__init__()\n",
        "\n",
        "        self.linear1 = nn.Linear(28*28, hidden_size_1)\n",
        "        self.linear2 = nn.Linear(hidden_size_1, hidden_size_2)\n",
        "        self.linear3 = nn.Linear(hidden_size_2, 5)\n",
        "        self.relu = nn.ReLU()\n",
        "\n",
        "\n",
        "        self.dropout = nn.Dropout(0.5)\n",
        "\n",
        "\n",
        "\n",
        "    def forward(self, img):\n",
        "        x = img.view(-1, 28*28)\n",
        "        x = self.relu(self.linear1(x))\n",
        "        x = self.dropout(x)\n",
        "        x = self.relu(self.linear2(x))\n",
        "        x = self.dropout(x)\n",
        "        x = self.linear3(x)\n",
        "        return x\n",
        "\n",
        "net = classifier().to(device)"
      ],
      "id": "9BPPBhfCc3jh"
    },
    {
      "cell_type": "markdown",
      "metadata": {
        "cell_ktag": "2aOSDzdHvY5f",
        "id": "N8stjmXuc3jh"
      },
      "source": [
        "# Code for training loop & validation"
      ],
      "id": "N8stjmXuc3jh"
    },
    {
      "cell_type": "code",
      "execution_count": 5,
      "metadata": {
        "cell_ktag": "2aOSDzdHvY5f",
        "id": "Zewe2vqZc3jh"
      },
      "outputs": [],
      "source": [
        "#We set a lower learning rate when we will fine-tune on the subset of MNIST containing digits 5...9\n",
        "#so that fine-tuning don't change pre-training weights too much.\n",
        "\n",
        "#Since the NN is big, we add weight decay to regularize it otherwise it will overfit too much too fast\n",
        "def adjust_optimizer(name, parameters):\n",
        "    lr = 0.001\n",
        "    if name == \"subset2\":\n",
        "        lr = 0.00001\n",
        "    return torch.optim.Adam(parameters, lr=lr, weight_decay=0.0001)\n",
        "\n",
        "#to do label prediction during training we use argmax on the last layer, which output a vector of 5 components\n",
        "#so y_hat will be between 0 and 4, we thus have to \"translate\" y_true so that it's in the right range\n",
        "\n",
        "# the name variable will be used later on to recognize on which dataset we are\n",
        "# and do the corresponding label translation, and set the good hyperparameters\n",
        "def process_labels(name, labels):\n",
        "    if 'subset2' in name:\n",
        "        labels = labels - 5\n",
        "    return labels\n",
        "\n",
        "\n",
        "def run_epoch(loader, name, net, optimizer, cross_el, total_iterations_limit=None):\n",
        "    net.train() if optimizer else net.eval()\n",
        "\n",
        "    loss_sum = 0\n",
        "    num_iterations = 0\n",
        "\n",
        "    data_iterator = tqdm(loader, desc=f'Training' if optimizer else f'Validation')\n",
        "    if total_iterations_limit is not None:\n",
        "        data_iterator.total = total_iterations_limit\n",
        "\n",
        "    for data in data_iterator:\n",
        "        num_iterations += 1\n",
        "        x, y = data\n",
        "        x, y = x.to(device), y.to(device)\n",
        "        x = x.view(-1, 28*28)\n",
        "        optimizer.zero_grad() if optimizer else None\n",
        "        output = net(x)\n",
        "        loss = cross_el(output, process_labels(name, y))\n",
        "        loss_sum += loss.item()\n",
        "        avg_loss = loss_sum / num_iterations\n",
        "        data_iterator.set_postfix(loss=avg_loss)\n",
        "        if optimizer:\n",
        "            loss.backward()\n",
        "            optimizer.step()\n",
        "\n",
        "    return loss_sum / len(data_iterator)\n",
        "\n",
        "def train(train_loader, val_loader, name, net, epochs=5, total_iterations_limit=None):\n",
        "    cross_el = nn.CrossEntropyLoss()\n",
        "    optimizer = adjust_optimizer(name, net.parameters())\n",
        "\n",
        "    total_iterations = 0\n",
        "    train_loss_lst, val_loss_lst = [], []\n",
        "\n",
        "    for epoch in range(epochs):\n",
        "        train_loss = run_epoch(train_loader, name, net, optimizer, cross_el, total_iterations_limit)\n",
        "        print(f\"Epoch [{epoch+1}/{epochs}] Train Loss: {train_loss}\")\n",
        "        train_loss_lst.append(train_loss)\n",
        "\n",
        "        val_loss = run_epoch(val_loader, name, net, None, cross_el, total_iterations_limit)\n",
        "        print(f\"Epoch [{epoch+1}/{epochs}] Validation Loss: {val_loss}\")\n",
        "        val_loss_lst.append(val_loss)\n",
        "\n",
        "    return train_loss_lst, val_loss_lst"
      ],
      "id": "Zewe2vqZc3jh"
    },
    {
      "cell_type": "code",
      "execution_count": 6,
      "metadata": {
        "cell_ktag": "2aOSDzdHvY5f",
        "id": "0hwndauKc3jh"
      },
      "outputs": [],
      "source": [
        "def plot_losses(train_loss_lst, val_loss_lst):\n",
        "    plt.plot(train_loss_lst,label=\"train\")\n",
        "    plt.plot(val_loss_lst,label=\"val\")\n",
        "    plt.legend()"
      ],
      "id": "0hwndauKc3jh"
    },
    {
      "cell_type": "markdown",
      "metadata": {
        "cell_ktag": "2aOSDzdHvY5f",
        "id": "Fy4m2sE7c3jh"
      },
      "source": [
        "# If you have GPU access, or simply want to train your own model, run this code"
      ],
      "id": "Fy4m2sE7c3jh"
    },
    {
      "cell_type": "code",
      "execution_count": 7,
      "metadata": {
        "cell_ktag": "2aOSDzdHvY5f",
        "colab": {
          "base_uri": "https://localhost:8080/"
        },
        "id": "B5h-f-Gnc3jh",
        "outputId": "b3f5be95-3a40-4a80-8fcf-ad58c4f16656"
      },
      "outputs": [
        {
          "output_type": "stream",
          "name": "stderr",
          "text": [
            "Training: 100%|██████████| 168/168 [00:21<00:00,  7.80it/s, loss=0.15]\n"
          ]
        },
        {
          "output_type": "stream",
          "name": "stdout",
          "text": [
            "Epoch [1/30] Train Loss: 0.1496486769423687\n"
          ]
        },
        {
          "output_type": "stream",
          "name": "stderr",
          "text": [
            "Validation: 100%|██████████| 72/72 [00:04<00:00, 17.21it/s, loss=0.0717]\n"
          ]
        },
        {
          "output_type": "stream",
          "name": "stdout",
          "text": [
            "Epoch [1/30] Validation Loss: 0.0717043834609083\n"
          ]
        },
        {
          "output_type": "stream",
          "name": "stderr",
          "text": [
            "Training: 100%|██████████| 168/168 [00:20<00:00,  8.17it/s, loss=0.0718]\n"
          ]
        },
        {
          "output_type": "stream",
          "name": "stdout",
          "text": [
            "Epoch [2/30] Train Loss: 0.0718296590050505\n"
          ]
        },
        {
          "output_type": "stream",
          "name": "stderr",
          "text": [
            "Validation: 100%|██████████| 72/72 [00:04<00:00, 17.94it/s, loss=0.0501]\n"
          ]
        },
        {
          "output_type": "stream",
          "name": "stdout",
          "text": [
            "Epoch [2/30] Validation Loss: 0.05010759814952811\n"
          ]
        },
        {
          "output_type": "stream",
          "name": "stderr",
          "text": [
            "Training: 100%|██████████| 168/168 [00:20<00:00,  8.03it/s, loss=0.0566]\n"
          ]
        },
        {
          "output_type": "stream",
          "name": "stdout",
          "text": [
            "Epoch [3/30] Train Loss: 0.05661011381085873\n"
          ]
        },
        {
          "output_type": "stream",
          "name": "stderr",
          "text": [
            "Validation: 100%|██████████| 72/72 [00:03<00:00, 18.52it/s, loss=0.0446]\n"
          ]
        },
        {
          "output_type": "stream",
          "name": "stdout",
          "text": [
            "Epoch [3/30] Validation Loss: 0.04460756934228508\n"
          ]
        },
        {
          "output_type": "stream",
          "name": "stderr",
          "text": [
            "Training: 100%|██████████| 168/168 [00:22<00:00,  7.50it/s, loss=0.0499]\n"
          ]
        },
        {
          "output_type": "stream",
          "name": "stdout",
          "text": [
            "Epoch [4/30] Train Loss: 0.04991993713026334\n"
          ]
        },
        {
          "output_type": "stream",
          "name": "stderr",
          "text": [
            "Validation: 100%|██████████| 72/72 [00:04<00:00, 17.42it/s, loss=0.0529]\n"
          ]
        },
        {
          "output_type": "stream",
          "name": "stdout",
          "text": [
            "Epoch [4/30] Validation Loss: 0.05291139711334836\n"
          ]
        },
        {
          "output_type": "stream",
          "name": "stderr",
          "text": [
            "Training: 100%|██████████| 168/168 [00:20<00:00,  8.00it/s, loss=0.0465]\n"
          ]
        },
        {
          "output_type": "stream",
          "name": "stdout",
          "text": [
            "Epoch [5/30] Train Loss: 0.04646402267237482\n"
          ]
        },
        {
          "output_type": "stream",
          "name": "stderr",
          "text": [
            "Validation: 100%|██████████| 72/72 [00:03<00:00, 18.35it/s, loss=0.0393]\n"
          ]
        },
        {
          "output_type": "stream",
          "name": "stdout",
          "text": [
            "Epoch [5/30] Validation Loss: 0.03932266803005607\n"
          ]
        },
        {
          "output_type": "stream",
          "name": "stderr",
          "text": [
            "Training: 100%|██████████| 168/168 [00:21<00:00,  7.96it/s, loss=0.038]\n"
          ]
        },
        {
          "output_type": "stream",
          "name": "stdout",
          "text": [
            "Epoch [6/30] Train Loss: 0.03800202621745744\n"
          ]
        },
        {
          "output_type": "stream",
          "name": "stderr",
          "text": [
            "Validation: 100%|██████████| 72/72 [00:03<00:00, 18.42it/s, loss=0.0427]\n"
          ]
        },
        {
          "output_type": "stream",
          "name": "stdout",
          "text": [
            "Epoch [6/30] Validation Loss: 0.042682658751598664\n"
          ]
        },
        {
          "output_type": "stream",
          "name": "stderr",
          "text": [
            "Training: 100%|██████████| 168/168 [00:23<00:00,  7.16it/s, loss=0.036]\n"
          ]
        },
        {
          "output_type": "stream",
          "name": "stdout",
          "text": [
            "Epoch [7/30] Train Loss: 0.03599903619604967\n"
          ]
        },
        {
          "output_type": "stream",
          "name": "stderr",
          "text": [
            "Validation: 100%|██████████| 72/72 [00:04<00:00, 15.67it/s, loss=0.0404]\n"
          ]
        },
        {
          "output_type": "stream",
          "name": "stdout",
          "text": [
            "Epoch [7/30] Validation Loss: 0.040441032727459164\n"
          ]
        },
        {
          "output_type": "stream",
          "name": "stderr",
          "text": [
            "Training: 100%|██████████| 168/168 [00:34<00:00,  4.83it/s, loss=0.0391]\n"
          ]
        },
        {
          "output_type": "stream",
          "name": "stdout",
          "text": [
            "Epoch [8/30] Train Loss: 0.03911041584866498\n"
          ]
        },
        {
          "output_type": "stream",
          "name": "stderr",
          "text": [
            "Validation: 100%|██████████| 72/72 [00:04<00:00, 14.95it/s, loss=0.0454]\n"
          ]
        },
        {
          "output_type": "stream",
          "name": "stdout",
          "text": [
            "Epoch [8/30] Validation Loss: 0.045403564528290495\n"
          ]
        },
        {
          "output_type": "stream",
          "name": "stderr",
          "text": [
            "Training: 100%|██████████| 168/168 [00:22<00:00,  7.61it/s, loss=0.0307]\n"
          ]
        },
        {
          "output_type": "stream",
          "name": "stdout",
          "text": [
            "Epoch [9/30] Train Loss: 0.03068079742349385\n"
          ]
        },
        {
          "output_type": "stream",
          "name": "stderr",
          "text": [
            "Validation: 100%|██████████| 72/72 [00:05<00:00, 14.13it/s, loss=0.0437]\n"
          ]
        },
        {
          "output_type": "stream",
          "name": "stdout",
          "text": [
            "Epoch [9/30] Validation Loss: 0.04367495745747066\n"
          ]
        },
        {
          "output_type": "stream",
          "name": "stderr",
          "text": [
            "Training: 100%|██████████| 168/168 [00:22<00:00,  7.43it/s, loss=0.034]\n"
          ]
        },
        {
          "output_type": "stream",
          "name": "stdout",
          "text": [
            "Epoch [10/30] Train Loss: 0.03404740250455992\n"
          ]
        },
        {
          "output_type": "stream",
          "name": "stderr",
          "text": [
            "Validation: 100%|██████████| 72/72 [00:04<00:00, 15.04it/s, loss=0.0437]\n"
          ]
        },
        {
          "output_type": "stream",
          "name": "stdout",
          "text": [
            "Epoch [10/30] Validation Loss: 0.043729274988032155\n"
          ]
        },
        {
          "output_type": "stream",
          "name": "stderr",
          "text": [
            "Training: 100%|██████████| 168/168 [00:22<00:00,  7.49it/s, loss=0.0316]\n"
          ]
        },
        {
          "output_type": "stream",
          "name": "stdout",
          "text": [
            "Epoch [11/30] Train Loss: 0.03158334609802945\n"
          ]
        },
        {
          "output_type": "stream",
          "name": "stderr",
          "text": [
            "Validation: 100%|██████████| 72/72 [00:04<00:00, 17.41it/s, loss=0.0438]\n"
          ]
        },
        {
          "output_type": "stream",
          "name": "stdout",
          "text": [
            "Epoch [11/30] Validation Loss: 0.04383580772991991\n"
          ]
        },
        {
          "output_type": "stream",
          "name": "stderr",
          "text": [
            "Training: 100%|██████████| 168/168 [00:22<00:00,  7.53it/s, loss=0.0304]\n"
          ]
        },
        {
          "output_type": "stream",
          "name": "stdout",
          "text": [
            "Epoch [12/30] Train Loss: 0.030354504253149832\n"
          ]
        },
        {
          "output_type": "stream",
          "name": "stderr",
          "text": [
            "Validation: 100%|██████████| 72/72 [00:04<00:00, 17.97it/s, loss=0.0399]\n"
          ]
        },
        {
          "output_type": "stream",
          "name": "stdout",
          "text": [
            "Epoch [12/30] Validation Loss: 0.03992549713600763\n"
          ]
        },
        {
          "output_type": "stream",
          "name": "stderr",
          "text": [
            "Training: 100%|██████████| 168/168 [00:22<00:00,  7.41it/s, loss=0.0323]\n"
          ]
        },
        {
          "output_type": "stream",
          "name": "stdout",
          "text": [
            "Epoch [13/30] Train Loss: 0.032325054520957304\n"
          ]
        },
        {
          "output_type": "stream",
          "name": "stderr",
          "text": [
            "Validation: 100%|██████████| 72/72 [00:04<00:00, 17.82it/s, loss=0.0519]\n"
          ]
        },
        {
          "output_type": "stream",
          "name": "stdout",
          "text": [
            "Epoch [13/30] Validation Loss: 0.05187462159058972\n"
          ]
        },
        {
          "output_type": "stream",
          "name": "stderr",
          "text": [
            "Training: 100%|██████████| 168/168 [00:22<00:00,  7.63it/s, loss=0.0268]\n"
          ]
        },
        {
          "output_type": "stream",
          "name": "stdout",
          "text": [
            "Epoch [14/30] Train Loss: 0.026842682963130454\n"
          ]
        },
        {
          "output_type": "stream",
          "name": "stderr",
          "text": [
            "Validation: 100%|██████████| 72/72 [00:04<00:00, 17.69it/s, loss=0.0481]\n"
          ]
        },
        {
          "output_type": "stream",
          "name": "stdout",
          "text": [
            "Epoch [14/30] Validation Loss: 0.048125276581534614\n"
          ]
        },
        {
          "output_type": "stream",
          "name": "stderr",
          "text": [
            "Training: 100%|██████████| 168/168 [00:21<00:00,  7.74it/s, loss=0.031]\n"
          ]
        },
        {
          "output_type": "stream",
          "name": "stdout",
          "text": [
            "Epoch [15/30] Train Loss: 0.030952567771670318\n"
          ]
        },
        {
          "output_type": "stream",
          "name": "stderr",
          "text": [
            "Validation: 100%|██████████| 72/72 [00:04<00:00, 17.92it/s, loss=0.0405]\n"
          ]
        },
        {
          "output_type": "stream",
          "name": "stdout",
          "text": [
            "Epoch [15/30] Validation Loss: 0.04046014484609057\n"
          ]
        },
        {
          "output_type": "stream",
          "name": "stderr",
          "text": [
            "Training: 100%|██████████| 168/168 [00:21<00:00,  7.72it/s, loss=0.0219]\n"
          ]
        },
        {
          "output_type": "stream",
          "name": "stdout",
          "text": [
            "Epoch [16/30] Train Loss: 0.02189853448518469\n"
          ]
        },
        {
          "output_type": "stream",
          "name": "stderr",
          "text": [
            "Validation: 100%|██████████| 72/72 [00:03<00:00, 18.57it/s, loss=0.0379]\n"
          ]
        },
        {
          "output_type": "stream",
          "name": "stdout",
          "text": [
            "Epoch [16/30] Validation Loss: 0.03791717265812622\n"
          ]
        },
        {
          "output_type": "stream",
          "name": "stderr",
          "text": [
            "Training: 100%|██████████| 168/168 [00:21<00:00,  7.74it/s, loss=0.0245]\n"
          ]
        },
        {
          "output_type": "stream",
          "name": "stdout",
          "text": [
            "Epoch [17/30] Train Loss: 0.024507689973731994\n"
          ]
        },
        {
          "output_type": "stream",
          "name": "stderr",
          "text": [
            "Validation: 100%|██████████| 72/72 [00:03<00:00, 18.30it/s, loss=0.0536]\n"
          ]
        },
        {
          "output_type": "stream",
          "name": "stdout",
          "text": [
            "Epoch [17/30] Validation Loss: 0.053638019761415814\n"
          ]
        },
        {
          "output_type": "stream",
          "name": "stderr",
          "text": [
            "Training: 100%|██████████| 168/168 [00:22<00:00,  7.63it/s, loss=0.0304]\n"
          ]
        },
        {
          "output_type": "stream",
          "name": "stdout",
          "text": [
            "Epoch [18/30] Train Loss: 0.03036639379622232\n"
          ]
        },
        {
          "output_type": "stream",
          "name": "stderr",
          "text": [
            "Validation: 100%|██████████| 72/72 [00:04<00:00, 17.94it/s, loss=0.0568]\n"
          ]
        },
        {
          "output_type": "stream",
          "name": "stdout",
          "text": [
            "Epoch [18/30] Validation Loss: 0.0568442587690596\n"
          ]
        },
        {
          "output_type": "stream",
          "name": "stderr",
          "text": [
            "Training: 100%|██████████| 168/168 [00:22<00:00,  7.56it/s, loss=0.0333]\n"
          ]
        },
        {
          "output_type": "stream",
          "name": "stdout",
          "text": [
            "Epoch [19/30] Train Loss: 0.033277845430261334\n"
          ]
        },
        {
          "output_type": "stream",
          "name": "stderr",
          "text": [
            "Validation: 100%|██████████| 72/72 [00:03<00:00, 18.02it/s, loss=0.048]\n"
          ]
        },
        {
          "output_type": "stream",
          "name": "stdout",
          "text": [
            "Epoch [19/30] Validation Loss: 0.048035392998473175\n"
          ]
        },
        {
          "output_type": "stream",
          "name": "stderr",
          "text": [
            "Training: 100%|██████████| 168/168 [00:21<00:00,  7.67it/s, loss=0.0254]\n"
          ]
        },
        {
          "output_type": "stream",
          "name": "stdout",
          "text": [
            "Epoch [20/30] Train Loss: 0.025439101820536183\n"
          ]
        },
        {
          "output_type": "stream",
          "name": "stderr",
          "text": [
            "Validation: 100%|██████████| 72/72 [00:03<00:00, 18.33it/s, loss=0.0494]\n"
          ]
        },
        {
          "output_type": "stream",
          "name": "stdout",
          "text": [
            "Epoch [20/30] Validation Loss: 0.0494149261923869\n"
          ]
        },
        {
          "output_type": "stream",
          "name": "stderr",
          "text": [
            "Training: 100%|██████████| 168/168 [00:22<00:00,  7.49it/s, loss=0.0202]\n"
          ]
        },
        {
          "output_type": "stream",
          "name": "stdout",
          "text": [
            "Epoch [21/30] Train Loss: 0.020187362727786724\n"
          ]
        },
        {
          "output_type": "stream",
          "name": "stderr",
          "text": [
            "Validation: 100%|██████████| 72/72 [00:04<00:00, 17.09it/s, loss=0.0416]\n"
          ]
        },
        {
          "output_type": "stream",
          "name": "stdout",
          "text": [
            "Epoch [21/30] Validation Loss: 0.041640819526037376\n"
          ]
        },
        {
          "output_type": "stream",
          "name": "stderr",
          "text": [
            "Training: 100%|██████████| 168/168 [00:22<00:00,  7.48it/s, loss=0.0217]\n"
          ]
        },
        {
          "output_type": "stream",
          "name": "stdout",
          "text": [
            "Epoch [22/30] Train Loss: 0.021733867200488192\n"
          ]
        },
        {
          "output_type": "stream",
          "name": "stderr",
          "text": [
            "Validation: 100%|██████████| 72/72 [00:04<00:00, 15.20it/s, loss=0.0449]\n"
          ]
        },
        {
          "output_type": "stream",
          "name": "stdout",
          "text": [
            "Epoch [22/30] Validation Loss: 0.04494298558663306\n"
          ]
        },
        {
          "output_type": "stream",
          "name": "stderr",
          "text": [
            "Training: 100%|██████████| 168/168 [00:21<00:00,  7.68it/s, loss=0.0313]\n"
          ]
        },
        {
          "output_type": "stream",
          "name": "stdout",
          "text": [
            "Epoch [23/30] Train Loss: 0.03130934917732832\n"
          ]
        },
        {
          "output_type": "stream",
          "name": "stderr",
          "text": [
            "Validation: 100%|██████████| 72/72 [00:04<00:00, 14.78it/s, loss=0.037]\n"
          ]
        },
        {
          "output_type": "stream",
          "name": "stdout",
          "text": [
            "Epoch [23/30] Validation Loss: 0.03696583952210454\n"
          ]
        },
        {
          "output_type": "stream",
          "name": "stderr",
          "text": [
            "Training: 100%|██████████| 168/168 [00:21<00:00,  7.67it/s, loss=0.0206]\n"
          ]
        },
        {
          "output_type": "stream",
          "name": "stdout",
          "text": [
            "Epoch [24/30] Train Loss: 0.02056044591188852\n"
          ]
        },
        {
          "output_type": "stream",
          "name": "stderr",
          "text": [
            "Validation: 100%|██████████| 72/72 [00:04<00:00, 15.33it/s, loss=0.0436]\n"
          ]
        },
        {
          "output_type": "stream",
          "name": "stdout",
          "text": [
            "Epoch [24/30] Validation Loss: 0.04359011024903086\n"
          ]
        },
        {
          "output_type": "stream",
          "name": "stderr",
          "text": [
            "Training: 100%|██████████| 168/168 [00:22<00:00,  7.37it/s, loss=0.0228]\n"
          ]
        },
        {
          "output_type": "stream",
          "name": "stdout",
          "text": [
            "Epoch [25/30] Train Loss: 0.022801924207929654\n"
          ]
        },
        {
          "output_type": "stream",
          "name": "stderr",
          "text": [
            "Validation: 100%|██████████| 72/72 [00:04<00:00, 17.43it/s, loss=0.0438]\n"
          ]
        },
        {
          "output_type": "stream",
          "name": "stdout",
          "text": [
            "Epoch [25/30] Validation Loss: 0.04379920160651333\n"
          ]
        },
        {
          "output_type": "stream",
          "name": "stderr",
          "text": [
            "Training: 100%|██████████| 168/168 [00:22<00:00,  7.39it/s, loss=0.0243]\n"
          ]
        },
        {
          "output_type": "stream",
          "name": "stdout",
          "text": [
            "Epoch [26/30] Train Loss: 0.024333403339802488\n"
          ]
        },
        {
          "output_type": "stream",
          "name": "stderr",
          "text": [
            "Validation: 100%|██████████| 72/72 [00:03<00:00, 18.33it/s, loss=0.0489]\n"
          ]
        },
        {
          "output_type": "stream",
          "name": "stdout",
          "text": [
            "Epoch [26/30] Validation Loss: 0.048850033541990946\n"
          ]
        },
        {
          "output_type": "stream",
          "name": "stderr",
          "text": [
            "Training: 100%|██████████| 168/168 [00:23<00:00,  7.22it/s, loss=0.0216]\n"
          ]
        },
        {
          "output_type": "stream",
          "name": "stdout",
          "text": [
            "Epoch [27/30] Train Loss: 0.021584677122172297\n"
          ]
        },
        {
          "output_type": "stream",
          "name": "stderr",
          "text": [
            "Validation: 100%|██████████| 72/72 [00:04<00:00, 17.91it/s, loss=0.0411]\n"
          ]
        },
        {
          "output_type": "stream",
          "name": "stdout",
          "text": [
            "Epoch [27/30] Validation Loss: 0.041125498061369906\n"
          ]
        },
        {
          "output_type": "stream",
          "name": "stderr",
          "text": [
            "Training: 100%|██████████| 168/168 [00:22<00:00,  7.35it/s, loss=0.0191]\n"
          ]
        },
        {
          "output_type": "stream",
          "name": "stdout",
          "text": [
            "Epoch [28/30] Train Loss: 0.01906033294467523\n"
          ]
        },
        {
          "output_type": "stream",
          "name": "stderr",
          "text": [
            "Validation: 100%|██████████| 72/72 [00:04<00:00, 17.77it/s, loss=0.0442]\n"
          ]
        },
        {
          "output_type": "stream",
          "name": "stdout",
          "text": [
            "Epoch [28/30] Validation Loss: 0.04424800988126915\n"
          ]
        },
        {
          "output_type": "stream",
          "name": "stderr",
          "text": [
            "Training: 100%|██████████| 168/168 [00:22<00:00,  7.52it/s, loss=0.0223]\n"
          ]
        },
        {
          "output_type": "stream",
          "name": "stdout",
          "text": [
            "Epoch [29/30] Train Loss: 0.02225607313405254\n"
          ]
        },
        {
          "output_type": "stream",
          "name": "stderr",
          "text": [
            "Validation: 100%|██████████| 72/72 [00:04<00:00, 17.92it/s, loss=0.048]\n"
          ]
        },
        {
          "output_type": "stream",
          "name": "stdout",
          "text": [
            "Epoch [29/30] Validation Loss: 0.04796971992004728\n"
          ]
        },
        {
          "output_type": "stream",
          "name": "stderr",
          "text": [
            "Training: 100%|██████████| 168/168 [00:22<00:00,  7.37it/s, loss=0.0245]\n"
          ]
        },
        {
          "output_type": "stream",
          "name": "stdout",
          "text": [
            "Epoch [30/30] Train Loss: 0.024538102384256143\n"
          ]
        },
        {
          "output_type": "stream",
          "name": "stderr",
          "text": [
            "Validation: 100%|██████████| 72/72 [00:04<00:00, 16.31it/s, loss=0.0507]"
          ]
        },
        {
          "output_type": "stream",
          "name": "stdout",
          "text": [
            "Epoch [30/30] Validation Loss: 0.050743958475158654\n"
          ]
        },
        {
          "output_type": "stream",
          "name": "stderr",
          "text": [
            "\n"
          ]
        }
      ],
      "source": [
        "train_loss_lst, val_loss_lst = train(train_loader, val_loader, \"subset1\", net, epochs=30)"
      ],
      "id": "B5h-f-Gnc3jh"
    },
    {
      "cell_type": "code",
      "execution_count": 8,
      "metadata": {
        "cell_ktag": "2aOSDzdHvY5f",
        "colab": {
          "base_uri": "https://localhost:8080/",
          "height": 430
        },
        "id": "ajbLpFwsc3ji",
        "outputId": "13232d00-8b7a-4f56-8432-c15de75dda7d"
      },
      "outputs": [
        {
          "output_type": "display_data",
          "data": {
            "text/plain": [
              "<Figure size 640x480 with 1 Axes>"
            ],
            "image/png": "[encoded data removed]"
          },
          "metadata": {}
        }
      ],
      "source": [
        "plot_losses(train_loss_lst,val_loss_lst)"
      ],
      "id": "ajbLpFwsc3ji"
    },
    {
      "cell_type": "code",
      "execution_count": 9,
      "metadata": {
        "cell_ktag": "2aOSDzdHvY5f",
        "id": "4qEZoi_Nc3ji"
      },
      "outputs": [],
      "source": [
        "# save the model\n",
        "path1= \"./models/model.pth\"\n",
        "torch.save(net,path1)\n",
        "\n",
        "path2= \"./models/model_state_dict.pth\"\n",
        "# Save the state dictionary\n",
        "torch.save(net.state_dict(), path2)"
      ],
      "id": "4qEZoi_Nc3ji"
    },
    {
      "cell_type": "markdown",
      "metadata": {
        "cell_ktag": "2aOSDzdHvY5f",
        "id": "oETQXd6Jc3ji"
      },
      "source": [
        "# Otherwise load an already pre-trained model\n",
        "Either the one you have created above, either the one already available at https://www.lri.fr/~gcharpia/deeppractice/2024/TP4/models/\n"
      ],
      "id": "oETQXd6Jc3ji"
    },
    {
      "cell_type": "code",
      "execution_count": 10,
      "metadata": {
        "cell_ktag": "2aOSDzdHvY5f",
        "id": "gczMEcRGc3ji"
      },
      "outputs": [],
      "source": [
        "net=torch.load(path1).to(device)"
      ],
      "id": "gczMEcRGc3ji"
    },
    {
      "cell_type": "markdown",
      "metadata": {
        "cell_ktag": "2aOSDzdHvY5f",
        "id": "gpcyOIVac3ji"
      },
      "source": [
        "# Count the number of weights & compare it with parameters added by LoRA"
      ],
      "id": "gpcyOIVac3ji"
    },
    {
      "cell_type": "code",
      "execution_count": 11,
      "metadata": {
        "cell_ktag": "2aOSDzdHvY5f",
        "id": "Xy2G31v2c3ji"
      },
      "outputs": [],
      "source": [
        "original_weights = {}\n",
        "for name, param in net.named_parameters():\n",
        "    original_weights[name] = param.clone().detach()"
      ],
      "id": "Xy2G31v2c3ji"
    },
    {
      "cell_type": "code",
      "execution_count": 12,
      "metadata": {
        "cell_ktag": "2aOSDzdHvY5f",
        "colab": {
          "base_uri": "https://localhost:8080/"
        },
        "id": "gH3PlkcAc3ji",
        "outputId": "068f11a0-352d-42a8-92b7-7b4c214a23f7"
      },
      "outputs": [
        {
          "output_type": "stream",
          "name": "stdout",
          "text": [
            "Layer 1: W: torch.Size([1000, 784]) + B: torch.Size([1000])\n",
            "Layer 2: W: torch.Size([2000, 1000]) + B: torch.Size([2000])\n",
            "Layer 3: W: torch.Size([5, 2000]) + B: torch.Size([5])\n",
            "Total number of parameters: 2,797,005\n"
          ]
        }
      ],
      "source": [
        "# Print the size of the weights matrices of the network\n",
        "# Save the count of the total number of parameters\n",
        "net.eval()\n",
        "total_parameters_original = 0\n",
        "for index, layer in enumerate([net.linear1, net.linear2, net.linear3]):\n",
        "    total_parameters_original += layer.weight.nelement() + layer.bias.nelement()\n",
        "    print(f'Layer {index+1}: W: {layer.weight.shape} + B: {layer.bias.shape}')\n",
        "print(f'Total number of parameters: {total_parameters_original:,}')\n"
      ],
      "id": "gH3PlkcAc3ji"
    },
    {
      "cell_type": "markdown",
      "metadata": {
        "cell_ktag": "2aOSDzdHvY5f",
        "id": "SO2YiI0lc3ji"
      },
      "source": [
        "# Test the model on digits 0...4"
      ],
      "id": "SO2YiI0lc3ji"
    },
    {
      "cell_type": "code",
      "execution_count": 13,
      "metadata": {
        "cell_ktag": "2aOSDzdHvY5f",
        "colab": {
          "base_uri": "https://localhost:8080/"
        },
        "id": "YS6aAF6fc3ji",
        "outputId": "ab548569-09c2-43c3-88ff-54c1ae533b36"
      },
      "outputs": [
        {
          "output_type": "stream",
          "name": "stderr",
          "text": [
            "Testing: 100%|██████████| 41/41 [00:02<00:00, 18.51it/s]"
          ]
        },
        {
          "output_type": "stream",
          "name": "stdout",
          "text": [
            "Accuracy: 0.992\n",
            "Wrong counts for the digit 0: 5\n",
            "Wrong counts for the digit 1: 5\n",
            "Wrong counts for the digit 2: 20\n",
            "Wrong counts for the digit 3: 4\n",
            "Wrong counts for the digit 4: 5\n"
          ]
        },
        {
          "output_type": "stream",
          "name": "stderr",
          "text": [
            "\n"
          ]
        },
        {
          "output_type": "execute_result",
          "data": {
            "text/plain": [
              "0.992"
            ]
          },
          "metadata": {},
          "execution_count": 13
        }
      ],
      "source": [
        "def test(loader, name, net, wrong_counts):\n",
        "    correct = 0\n",
        "    total = 0\n",
        "\n",
        "    net.eval()\n",
        "    with torch.no_grad():\n",
        "        for data in tqdm(loader, desc=name):\n",
        "            x, y = data\n",
        "            x = x.to(device)\n",
        "            y = y.to(device)\n",
        "            y = process_labels(name, y)\n",
        "            output = net(x.view(-1, 784))\n",
        "            for idx, i in enumerate(output):\n",
        "                if torch.argmax(i) == y[idx]:\n",
        "                    correct += 1\n",
        "                else:\n",
        "                    wrong_digit = y[idx].item() + 5 if 'subset2' in name else y[idx].item()\n",
        "                    wrong_counts[wrong_digit] += 1\n",
        "\n",
        "                total += 1\n",
        "\n",
        "    accuracy = round(correct / total, 3)\n",
        "    print(f'Accuracy: {accuracy}')\n",
        "    for key, value in wrong_counts.items():\n",
        "        print(f'Wrong counts for the digit {key}: {value}')\n",
        "\n",
        "    return accuracy\n",
        "\n",
        "test(test_loader, \"Testing\", net, {i: 0 for i in range(5)})\n"
      ],
      "id": "YS6aAF6fc3ji"
    },
    {
      "cell_type": "markdown",
      "metadata": {
        "cell_ktag": "2aOSDzdHvY5f",
        "id": "y45zjOsuc3ji"
      },
      "source": [
        "# Define train, validation, test sets for digits 5...9"
      ],
      "id": "y45zjOsuc3ji"
    },
    {
      "cell_type": "markdown",
      "metadata": {
        "cell_ktag": "2aOSDzdHvY5f",
        "id": "Y3HJQ6Hhc3ji"
      },
      "source": [
        "__Question 1 (0.25 points) :__"
      ],
      "id": "Y3HJQ6Hhc3ji"
    },
    {
      "cell_type": "code",
      "execution_count": 14,
      "metadata": {
        "cell_ktag": "2aOSDzdHvY5f",
        "id": "9BTIsQ0fc3ji"
      },
      "outputs": [],
      "source": [
        "#same code as before except for the mask\n",
        "\n",
        "# create a mask to filter indices for each label, retrieve digits 5...9\n",
        "class_names_subset2 = [5, 6, 7, 8, 9]\n",
        "train_mask_subset2 = torch.tensor([label in class_names_subset2 for label in mnist_train.targets])\n",
        "test_mask_subset2 = torch.tensor([label in class_names_subset2 for label in mnist_test.targets])\n",
        "\n",
        "# Create Subset datasets for train, validation, and test\n",
        "train_dataset_subset2 = Subset(mnist_train, torch.where(train_mask_subset2)[0])\n",
        "test_dataset_subset2 = Subset(mnist_test, torch.where(test_mask_subset2)[0])\n",
        "\n",
        "# split train into train & validation\n",
        "train_size_subset2 = int(0.7 * len(train_dataset_subset2))\n",
        "val_size_subset2 = len(train_dataset_subset2) - train_size_subset2\n",
        "train_dataset_subset2, val_dataset_subset2 = random_split(train_dataset_subset2, [train_size_subset2, val_size_subset2])\n",
        "\n",
        "train_loader_subset2 = DataLoader(train_dataset_subset2, batch_size=batch_size, shuffle=True)\n",
        "val_loader_subset2 = DataLoader(val_dataset_subset2, batch_size=batch_size, shuffle=False)\n",
        "test_loader_subset2 = DataLoader(test_dataset_subset2, batch_size=batch_size, shuffle=False)\n"
      ],
      "id": "9BTIsQ0fc3ji"
    },
    {
      "cell_type": "markdown",
      "metadata": {
        "cell_ktag": "2aOSDzdHvY5f",
        "id": "7M5qOpUzc3ji"
      },
      "source": [
        "# Verify that pre-trained model on digits 0...4 is bad on digits 5...9"
      ],
      "id": "7M5qOpUzc3ji"
    },
    {
      "cell_type": "markdown",
      "metadata": {
        "cell_ktag": "2aOSDzdHvY5f",
        "id": "639m3Fcuc3ji"
      },
      "source": [
        "__Question 2 (0.25 points) :__"
      ],
      "id": "639m3Fcuc3ji"
    },
    {
      "cell_type": "markdown",
      "metadata": {
        "cell_ktag": "2aOSDzdHvY5f",
        "id": "laAFnzcYc3jj"
      },
      "source": [
        "You should display the number of wrong predictions for each digits & global accuracy. \\\n",
        "Note that it's better than random guess ($\\frac{1}{5}\\times 100= $20%) for digit 8 and 9 because 3 looks like 8 and 4 looks like 9\n"
      ],
      "id": "laAFnzcYc3jj"
    },
    {
      "cell_type": "code",
      "execution_count": 15,
      "metadata": {
        "cell_ktag": "2aOSDzdHvY5f",
        "colab": {
          "base_uri": "https://localhost:8080/"
        },
        "id": "QW_1WnBZc3jj",
        "outputId": "8067e732-b966-4846-a86f-b0443f622e05"
      },
      "outputs": [
        {
          "output_type": "stream",
          "name": "stderr",
          "text": [
            "Testing subset2: 100%|██████████| 38/38 [00:02<00:00, 18.64it/s]"
          ]
        },
        {
          "output_type": "stream",
          "name": "stdout",
          "text": [
            "Accuracy: 0.429\n",
            "Wrong counts for the digit 5: 765\n",
            "Wrong counts for the digit 6: 940\n",
            "Wrong counts for the digit 7: 633\n",
            "Wrong counts for the digit 8: 347\n",
            "Wrong counts for the digit 9: 93\n"
          ]
        },
        {
          "output_type": "stream",
          "name": "stderr",
          "text": [
            "\n"
          ]
        }
      ],
      "source": [
        "wrong_counts_subset2 = {i: 0 for i in range(5, 10)}\n",
        "accuracy_subset2 = test(test_loader_subset2, \"Testing subset2\", net, wrong_counts_subset2)"
      ],
      "id": "QW_1WnBZc3jj"
    },
    {
      "cell_type": "markdown",
      "metadata": {
        "cell_ktag": "2aOSDzdHvY5f",
        "id": "k_W03-fjc3jj"
      },
      "source": [
        "# Fine-tune the model on digits 5...9"
      ],
      "id": "k_W03-fjc3jj"
    },
    {
      "cell_type": "markdown",
      "metadata": {
        "cell_ktag": "2aOSDzdHvY5f",
        "id": "nkoOAl8sc3jj"
      },
      "source": [
        "__Question 3 (0.5 points) :__"
      ],
      "id": "nkoOAl8sc3jj"
    },
    {
      "cell_type": "markdown",
      "metadata": {
        "cell_ktag": "2aOSDzdHvY5f",
        "id": "D81hkkl9c3jj"
      },
      "source": [
        "You will fine-tune all the layers of the model (ie. all parameters of all fully-connected matrices) for 10 epochs"
      ],
      "id": "D81hkkl9c3jj"
    },
    {
      "cell_type": "code",
      "execution_count": 17,
      "metadata": {
        "cell_ktag": "2aOSDzdHvY5f",
        "colab": {
          "base_uri": "https://localhost:8080/"
        },
        "id": "GzAikOJac3jj",
        "outputId": "bd31f71a-7ce1-4ef9-eddf-86582c48bc42"
      },
      "outputs": [
        {
          "output_type": "stream",
          "name": "stderr",
          "text": [
            "Training: 100%|██████████| 161/161 [00:26<00:00,  6.17it/s, loss=2.34]\n"
          ]
        },
        {
          "output_type": "stream",
          "name": "stdout",
          "text": [
            "Epoch [1/10] Train Loss: 2.338326060994071\n"
          ]
        },
        {
          "output_type": "stream",
          "name": "stderr",
          "text": [
            "Validation: 100%|██████████| 69/69 [00:03<00:00, 18.26it/s, loss=1.5]\n"
          ]
        },
        {
          "output_type": "stream",
          "name": "stdout",
          "text": [
            "Epoch [1/10] Validation Loss: 1.4986538627873296\n"
          ]
        },
        {
          "output_type": "stream",
          "name": "stderr",
          "text": [
            "Training: 100%|██████████| 161/161 [00:22<00:00,  7.23it/s, loss=1.59]\n"
          ]
        },
        {
          "output_type": "stream",
          "name": "stdout",
          "text": [
            "Epoch [2/10] Train Loss: 1.589279113719182\n"
          ]
        },
        {
          "output_type": "stream",
          "name": "stderr",
          "text": [
            "Validation: 100%|██████████| 69/69 [00:03<00:00, 18.67it/s, loss=1.01]\n"
          ]
        },
        {
          "output_type": "stream",
          "name": "stdout",
          "text": [
            "Epoch [2/10] Validation Loss: 1.0054470317951147\n"
          ]
        },
        {
          "output_type": "stream",
          "name": "stderr",
          "text": [
            "Training: 100%|██████████| 161/161 [00:22<00:00,  7.27it/s, loss=1.1]\n"
          ]
        },
        {
          "output_type": "stream",
          "name": "stdout",
          "text": [
            "Epoch [3/10] Train Loss: 1.1017112428357143\n"
          ]
        },
        {
          "output_type": "stream",
          "name": "stderr",
          "text": [
            "Validation: 100%|██████████| 69/69 [00:03<00:00, 17.83it/s, loss=0.699]\n"
          ]
        },
        {
          "output_type": "stream",
          "name": "stdout",
          "text": [
            "Epoch [3/10] Validation Loss: 0.6992500277533047\n"
          ]
        },
        {
          "output_type": "stream",
          "name": "stderr",
          "text": [
            "Training: 100%|██████████| 161/161 [00:22<00:00,  7.29it/s, loss=0.802]\n"
          ]
        },
        {
          "output_type": "stream",
          "name": "stdout",
          "text": [
            "Epoch [4/10] Train Loss: 0.8022552186287708\n"
          ]
        },
        {
          "output_type": "stream",
          "name": "stderr",
          "text": [
            "Validation: 100%|██████████| 69/69 [00:04<00:00, 17.13it/s, loss=0.532]\n"
          ]
        },
        {
          "output_type": "stream",
          "name": "stdout",
          "text": [
            "Epoch [4/10] Validation Loss: 0.5324861005596493\n"
          ]
        },
        {
          "output_type": "stream",
          "name": "stderr",
          "text": [
            "Training: 100%|██████████| 161/161 [00:22<00:00,  7.20it/s, loss=0.631]\n"
          ]
        },
        {
          "output_type": "stream",
          "name": "stdout",
          "text": [
            "Epoch [5/10] Train Loss: 0.6310404163339863\n"
          ]
        },
        {
          "output_type": "stream",
          "name": "stderr",
          "text": [
            "Validation: 100%|██████████| 69/69 [00:04<00:00, 15.27it/s, loss=0.427]\n"
          ]
        },
        {
          "output_type": "stream",
          "name": "stdout",
          "text": [
            "Epoch [5/10] Validation Loss: 0.4269043915513633\n"
          ]
        },
        {
          "output_type": "stream",
          "name": "stderr",
          "text": [
            "Training: 100%|██████████| 161/161 [00:22<00:00,  7.02it/s, loss=0.518]\n"
          ]
        },
        {
          "output_type": "stream",
          "name": "stdout",
          "text": [
            "Epoch [6/10] Train Loss: 0.5180471393262377\n"
          ]
        },
        {
          "output_type": "stream",
          "name": "stderr",
          "text": [
            "Validation: 100%|██████████| 69/69 [00:04<00:00, 14.63it/s, loss=0.354]\n"
          ]
        },
        {
          "output_type": "stream",
          "name": "stdout",
          "text": [
            "Epoch [6/10] Validation Loss: 0.35426327823728754\n"
          ]
        },
        {
          "output_type": "stream",
          "name": "stderr",
          "text": [
            "Training: 100%|██████████| 161/161 [00:24<00:00,  6.67it/s, loss=0.438]\n"
          ]
        },
        {
          "output_type": "stream",
          "name": "stdout",
          "text": [
            "Epoch [7/10] Train Loss: 0.4382112795336646\n"
          ]
        },
        {
          "output_type": "stream",
          "name": "stderr",
          "text": [
            "Validation: 100%|██████████| 69/69 [00:03<00:00, 18.19it/s, loss=0.302]\n"
          ]
        },
        {
          "output_type": "stream",
          "name": "stdout",
          "text": [
            "Epoch [7/10] Validation Loss: 0.3017084980788438\n"
          ]
        },
        {
          "output_type": "stream",
          "name": "stderr",
          "text": [
            "Training: 100%|██████████| 161/161 [00:24<00:00,  6.53it/s, loss=0.388]\n"
          ]
        },
        {
          "output_type": "stream",
          "name": "stdout",
          "text": [
            "Epoch [8/10] Train Loss: 0.3878914640742059\n"
          ]
        },
        {
          "output_type": "stream",
          "name": "stderr",
          "text": [
            "Validation: 100%|██████████| 69/69 [00:03<00:00, 18.34it/s, loss=0.262]\n"
          ]
        },
        {
          "output_type": "stream",
          "name": "stdout",
          "text": [
            "Epoch [8/10] Validation Loss: 0.261729937100756\n"
          ]
        },
        {
          "output_type": "stream",
          "name": "stderr",
          "text": [
            "Training: 100%|██████████| 161/161 [00:24<00:00,  6.63it/s, loss=0.337]\n"
          ]
        },
        {
          "output_type": "stream",
          "name": "stdout",
          "text": [
            "Epoch [9/10] Train Loss: 0.3373802655046771\n"
          ]
        },
        {
          "output_type": "stream",
          "name": "stderr",
          "text": [
            "Validation: 100%|██████████| 69/69 [00:04<00:00, 16.59it/s, loss=0.233]\n"
          ]
        },
        {
          "output_type": "stream",
          "name": "stdout",
          "text": [
            "Epoch [9/10] Validation Loss: 0.23252528279587842\n"
          ]
        },
        {
          "output_type": "stream",
          "name": "stderr",
          "text": [
            "Training: 100%|██████████| 161/161 [00:23<00:00,  6.73it/s, loss=0.311]\n"
          ]
        },
        {
          "output_type": "stream",
          "name": "stdout",
          "text": [
            "Epoch [10/10] Train Loss: 0.3108172336165209\n"
          ]
        },
        {
          "output_type": "stream",
          "name": "stderr",
          "text": [
            "Validation: 100%|██████████| 69/69 [00:04<00:00, 14.63it/s, loss=0.21]\n"
          ]
        },
        {
          "output_type": "stream",
          "name": "stdout",
          "text": [
            "Epoch [10/10] Validation Loss: 0.2102203858287438\n"
          ]
        },
        {
          "output_type": "stream",
          "name": "stderr",
          "text": [
            "Testing subset2: 100%|██████████| 38/38 [00:01<00:00, 19.04it/s]"
          ]
        },
        {
          "output_type": "stream",
          "name": "stdout",
          "text": [
            "Accuracy: 0.938\n",
            "Wrong counts for the digit 5: 73\n",
            "Wrong counts for the digit 6: 24\n",
            "Wrong counts for the digit 7: 60\n",
            "Wrong counts for the digit 8: 84\n",
            "Wrong counts for the digit 9: 60\n"
          ]
        },
        {
          "output_type": "stream",
          "name": "stderr",
          "text": [
            "\n"
          ]
        }
      ],
      "source": [
        "# Fine-tune the model on digits 5...9\n",
        "train_loss_lst_subset2, val_loss_lst_subset2 = train(train_loader_subset2, val_loader_subset2, \"subset2\", net, epochs=10)\n",
        "\n",
        "# Evaluate the fine-tuned model on the test set of digits 5...9\n",
        "wrong_counts_subset2_finetuned = {i: 0 for i in range(5, 10)}\n",
        "accuracy_subset2_finetuned = test(test_loader_subset2, \"Testing subset2\", net, wrong_counts_subset2_finetuned)"
      ],
      "id": "GzAikOJac3jj"
    },
    {
      "cell_type": "code",
      "execution_count": 18,
      "metadata": {
        "cell_ktag": "2aOSDzdHvY5f",
        "colab": {
          "base_uri": "https://localhost:8080/",
          "height": 430
        },
        "id": "A0ur3aNAc3jj",
        "outputId": "4169d3e5-5d0c-4f26-8ac5-e58c017397ff"
      },
      "outputs": [
        {
          "output_type": "display_data",
          "data": {
            "text/plain": [
              "<Figure size 640x480 with 1 Axes>"
            ],
            "image/png": "[encoded data removed]"
          },
          "metadata": {}
        }
      ],
      "source": [
        "#plot the train and validation losses\n",
        "plot_losses(train_loss_lst_subset2, val_loss_lst_subset2)"
      ],
      "id": "A0ur3aNAc3jj"
    },
    {
      "cell_type": "code",
      "execution_count": 19,
      "metadata": {
        "cell_ktag": "2aOSDzdHvY5f",
        "colab": {
          "base_uri": "https://localhost:8080/"
        },
        "id": "d1M59Xaqc3jj",
        "outputId": "926f800e-26e3-4513-c5cb-fc7888b8aff6"
      },
      "outputs": [
        {
          "output_type": "stream",
          "name": "stderr",
          "text": [
            "Testing subset2: 100%|██████████| 38/38 [00:02<00:00, 18.99it/s]"
          ]
        },
        {
          "output_type": "stream",
          "name": "stdout",
          "text": [
            "Accuracy: 0.938\n",
            "Wrong counts for the digit 5: 73\n",
            "Wrong counts for the digit 6: 24\n",
            "Wrong counts for the digit 7: 60\n",
            "Wrong counts for the digit 8: 84\n",
            "Wrong counts for the digit 9: 60\n"
          ]
        },
        {
          "output_type": "stream",
          "name": "stderr",
          "text": [
            "\n"
          ]
        }
      ],
      "source": [
        "#test accuracy of fine-tuned model on digits 5...9\n",
        "# & save this number into a variable, we will need it for final plot\n",
        "\n",
        "# Test accuracy of fine-tuned model on digits 5...9\n",
        "wrong_counts_subset2_finetuned = {i: 0 for i in range(5, 10)}\n",
        "accuracy_subset2_finetuned = test(test_loader_subset2, \"Testing subset2\", net, wrong_counts_subset2_finetuned)\n",
        "\n",
        "# Save the accuracy value into a variable for the final plot\n",
        "accuracy_finetuned_all = accuracy_subset2_finetuned"
      ],
      "id": "d1M59Xaqc3jj"
    },
    {
      "cell_type": "markdown",
      "metadata": {
        "cell_ktag": "2aOSDzdHvY5f",
        "id": "3LJHWatxc3jj"
      },
      "source": [
        "# Fine-tune the model on digits 5...9 with LoRA"
      ],
      "id": "3LJHWatxc3jj"
    },
    {
      "cell_type": "markdown",
      "metadata": {
        "cell_ktag": "2aOSDzdHvY5f",
        "id": "weG0uOYTc3jj"
      },
      "source": [
        "__Question 4 (2.5 points) :__"
      ],
      "id": "weG0uOYTc3jj"
    },
    {
      "cell_type": "markdown",
      "metadata": {
        "cell_ktag": "2aOSDzdHvY5f",
        "id": "FzEM08-fc3jj"
      },
      "source": [
        "You will now implement one LoRA per layer"
      ],
      "id": "FzEM08-fc3jj"
    },
    {
      "cell_type": "code",
      "execution_count": 64,
      "metadata": {
        "cell_ktag": "2aOSDzdHvY5f",
        "id": "KQw5YAc2c3jj"
      },
      "outputs": [],
      "source": [
        "class ModifiedClassifier(nn.Module):\n",
        "    def __init__(self, lora_rank):\n",
        "        super(ModifiedClassifier, self).__init__()\n",
        "        # Load the pretrained model\n",
        "        self.pretrained_net = classifier().to(device)\n",
        "        self.pretrained_net.load_state_dict(torch.load(path2))\n",
        "        self.relu = nn.ReLU()\n",
        "        self.dropout = nn.Dropout(0.1)\n",
        "\n",
        "        # Define lora hyperparameters\n",
        "        self.lora_rank = lora_rank\n",
        "\n",
        "        # Calculate the dimension \"d\" for each layer\n",
        "        d1 = self.pretrained_net.linear1.in_features\n",
        "        d2 = self.pretrained_net.linear2.in_features\n",
        "        d3 = self.pretrained_net.linear3.in_features\n",
        "\n",
        "        self.lora_alpha1 = lora_rank * d1\n",
        "        self.lora_alpha2 = lora_rank * d2\n",
        "        self.lora_alpha3 = lora_rank * d3\n",
        "\n",
        "        self.lora_dropout = nn.Dropout(0.1)\n",
        "\n",
        "        # Define lora weights matrices for each layer in pretrained model\n",
        "        self.l1_lora_A = nn.Parameter(torch.zeros(self.lora_rank, d1))\n",
        "        self.l1_lora_B = nn.Parameter(torch.zeros(self.pretrained_net.linear1.out_features, self.lora_rank))\n",
        "        self.l2_lora_A = nn.Parameter(torch.zeros(self.lora_rank, d2))\n",
        "        self.l2_lora_B = nn.Parameter(torch.zeros(self.pretrained_net.linear2.out_features, self.lora_rank))\n",
        "        self.l3_lora_A = nn.Parameter(torch.zeros(self.lora_rank, d3))\n",
        "        self.l3_lora_B = nn.Parameter(torch.zeros(self.pretrained_net.linear3.out_features, self.lora_rank))\n",
        "\n",
        "        # Initialization for lora layers\n",
        "        nn.init.kaiming_uniform_(self.l1_lora_A, a=math.sqrt(5))\n",
        "        nn.init.zeros_(self.l1_lora_B)\n",
        "        nn.init.kaiming_uniform_(self.l2_lora_A, a=math.sqrt(5))\n",
        "        nn.init.zeros_(self.l2_lora_B)\n",
        "        nn.init.kaiming_uniform_(self.l3_lora_A, a=math.sqrt(5))\n",
        "        nn.init.zeros_(self.l3_lora_B)\n",
        "\n",
        "        # Freeze non-LoRA weights\n",
        "        for param in self.pretrained_net.parameters():\n",
        "            param.requires_grad = False\n",
        "\n",
        "    def lora_linear(self, x, layer, lora_A, lora_B, lora_alpha):\n",
        "        # Implement formula (3) in arxiv.org/pdf/2106.09685.pdf\n",
        "        h = layer(x) + (self.lora_dropout(x) @ lora_A.T @ lora_B.T) * lora_alpha / self.lora_rank\n",
        "        return h\n",
        "\n",
        "    def forward(self, input):\n",
        "        x = input.view(-1, 28*28)\n",
        "\n",
        "        # Layer 1 (input size, hidden size)\n",
        "        x = self.lora_linear(x, self.pretrained_net.linear1, self.l1_lora_A, self.l1_lora_B, self.lora_alpha1)\n",
        "        x = self.relu(x)\n",
        "        x = self.dropout(x)\n",
        "\n",
        "        # Layer 2 (hidden size, hidden size)\n",
        "        x = self.lora_linear(x, self.pretrained_net.linear2, self.l2_lora_A, self.l2_lora_B, self.lora_alpha2)\n",
        "        x = self.relu(x)\n",
        "        x = self.dropout(x)\n",
        "\n",
        "        # Layer 3 (hidden size, output size)\n",
        "        x = self.lora_linear(x, self.pretrained_net.linear3, self.l3_lora_A, self.l3_lora_B, self.lora_alpha3)\n",
        "\n",
        "        return x\n"
      ],
      "id": "KQw5YAc2c3jj"
    },
    {
      "cell_type": "code",
      "source": [
        "# We define the LoRA rank\n",
        "lora_rank = 1\n",
        "\n",
        "# Create an instance of the modified network\n",
        "modified_net = ModifiedClassifier(lora_rank).to(device)"
      ],
      "metadata": {
        "id": "Dyaf17aqrD-v"
      },
      "id": "Dyaf17aqrD-v",
      "execution_count": 65,
      "outputs": []
    },
    {
      "cell_type": "markdown",
      "metadata": {
        "cell_ktag": "2aOSDzdHvY5f",
        "id": "FxeFFdaac3jj"
      },
      "source": [
        "Make a function that counts the number of parameters introduced by lora ( use the function torch.numel() )"
      ],
      "id": "FxeFFdaac3jj"
    },
    {
      "cell_type": "code",
      "execution_count": 66,
      "metadata": {
        "cell_ktag": "2aOSDzdHvY5f",
        "colab": {
          "base_uri": "https://localhost:8080/"
        },
        "id": "xTneE4apc3jk",
        "outputId": "d79d90d7-84d3-4cd4-ac63-255a89cb92dc"
      },
      "outputs": [
        {
          "output_type": "stream",
          "name": "stdout",
          "text": [
            "Number of parameters introduced by LoRA: 6789\n"
          ]
        }
      ],
      "source": [
        "# Count the parameters introduced by lora layers\n",
        "def count_lora_parameters(model):\n",
        "    lora_parameters = [\n",
        "        model.l1_lora_A,\n",
        "        model.l1_lora_B,\n",
        "        model.l2_lora_A,\n",
        "        model.l2_lora_B,\n",
        "        model.l3_lora_A,\n",
        "        model.l3_lora_B\n",
        "    ]\n",
        "\n",
        "    total_lora_params = 0\n",
        "    for param in lora_parameters:\n",
        "        total_lora_params += torch.numel(param)\n",
        "\n",
        "    return total_lora_params\n",
        "\n",
        "lora_params_count = count_lora_parameters(modified_net)\n",
        "print(f\"Number of parameters introduced by LoRA: {lora_params_count}\")"
      ],
      "id": "xTneE4apc3jk"
    },
    {
      "cell_type": "markdown",
      "metadata": {
        "cell_ktag": "2aOSDzdHvY5f",
        "id": "vG6BZySnc3js"
      },
      "source": [
        "# Fine-Tune using LoRA of rank 1"
      ],
      "id": "vG6BZySnc3js"
    },
    {
      "cell_type": "markdown",
      "metadata": {
        "cell_ktag": "2aOSDzdHvY5f",
        "id": "zoNQok9ic3js"
      },
      "source": [
        "__Question 5 (0.5 points) :__"
      ],
      "id": "zoNQok9ic3js"
    },
    {
      "cell_type": "code",
      "execution_count": 67,
      "metadata": {
        "cell_ktag": "2aOSDzdHvY5f",
        "colab": {
          "base_uri": "https://localhost:8080/"
        },
        "id": "yYB927Nnc3js",
        "outputId": "35832fd7-a10a-42bf-e128-76d7dcf867a0"
      },
      "outputs": [
        {
          "output_type": "stream",
          "name": "stderr",
          "text": [
            "Training: 100%|██████████| 161/161 [00:13<00:00, 12.17it/s, loss=4.15]\n"
          ]
        },
        {
          "output_type": "stream",
          "name": "stdout",
          "text": [
            "Epoch [1/10] Train Loss: 4.15145927112295\n"
          ]
        },
        {
          "output_type": "stream",
          "name": "stderr",
          "text": [
            "Validation: 100%|██████████| 69/69 [00:04<00:00, 16.77it/s, loss=1.65]\n"
          ]
        },
        {
          "output_type": "stream",
          "name": "stdout",
          "text": [
            "Epoch [1/10] Validation Loss: 1.6492392861324807\n"
          ]
        },
        {
          "output_type": "stream",
          "name": "stderr",
          "text": [
            "Training: 100%|██████████| 161/161 [00:13<00:00, 11.77it/s, loss=1.22]\n"
          ]
        },
        {
          "output_type": "stream",
          "name": "stdout",
          "text": [
            "Epoch [2/10] Train Loss: 1.2231754938267774\n"
          ]
        },
        {
          "output_type": "stream",
          "name": "stderr",
          "text": [
            "Validation: 100%|██████████| 69/69 [00:05<00:00, 13.75it/s, loss=0.806]\n"
          ]
        },
        {
          "output_type": "stream",
          "name": "stdout",
          "text": [
            "Epoch [2/10] Validation Loss: 0.806468805541163\n"
          ]
        },
        {
          "output_type": "stream",
          "name": "stderr",
          "text": [
            "Training: 100%|██████████| 161/161 [00:13<00:00, 11.70it/s, loss=0.721]\n"
          ]
        },
        {
          "output_type": "stream",
          "name": "stdout",
          "text": [
            "Epoch [3/10] Train Loss: 0.7214032011742918\n"
          ]
        },
        {
          "output_type": "stream",
          "name": "stderr",
          "text": [
            "Validation: 100%|██████████| 69/69 [00:04<00:00, 16.27it/s, loss=0.525]\n"
          ]
        },
        {
          "output_type": "stream",
          "name": "stdout",
          "text": [
            "Epoch [3/10] Validation Loss: 0.5253819944202036\n"
          ]
        },
        {
          "output_type": "stream",
          "name": "stderr",
          "text": [
            "Training: 100%|██████████| 161/161 [00:13<00:00, 11.60it/s, loss=0.533]\n"
          ]
        },
        {
          "output_type": "stream",
          "name": "stdout",
          "text": [
            "Epoch [4/10] Train Loss: 0.5332453606291587\n"
          ]
        },
        {
          "output_type": "stream",
          "name": "stderr",
          "text": [
            "Validation: 100%|██████████| 69/69 [00:04<00:00, 14.54it/s, loss=0.406]\n"
          ]
        },
        {
          "output_type": "stream",
          "name": "stdout",
          "text": [
            "Epoch [4/10] Validation Loss: 0.40635402047115826\n"
          ]
        },
        {
          "output_type": "stream",
          "name": "stderr",
          "text": [
            "Training: 100%|██████████| 161/161 [00:14<00:00, 11.34it/s, loss=0.462]\n"
          ]
        },
        {
          "output_type": "stream",
          "name": "stdout",
          "text": [
            "Epoch [5/10] Train Loss: 0.4617445756744894\n"
          ]
        },
        {
          "output_type": "stream",
          "name": "stderr",
          "text": [
            "Validation: 100%|██████████| 69/69 [00:04<00:00, 16.04it/s, loss=0.351]\n"
          ]
        },
        {
          "output_type": "stream",
          "name": "stdout",
          "text": [
            "Epoch [5/10] Validation Loss: 0.3509503227213155\n"
          ]
        },
        {
          "output_type": "stream",
          "name": "stderr",
          "text": [
            "Training: 100%|██████████| 161/161 [00:14<00:00, 11.22it/s, loss=0.405]\n"
          ]
        },
        {
          "output_type": "stream",
          "name": "stdout",
          "text": [
            "Epoch [6/10] Train Loss: 0.40498972864624877\n"
          ]
        },
        {
          "output_type": "stream",
          "name": "stderr",
          "text": [
            "Validation: 100%|██████████| 69/69 [00:05<00:00, 13.70it/s, loss=0.314]\n"
          ]
        },
        {
          "output_type": "stream",
          "name": "stdout",
          "text": [
            "Epoch [6/10] Validation Loss: 0.31400804545568384\n"
          ]
        },
        {
          "output_type": "stream",
          "name": "stderr",
          "text": [
            "Training: 100%|██████████| 161/161 [00:14<00:00, 11.23it/s, loss=0.37]\n"
          ]
        },
        {
          "output_type": "stream",
          "name": "stdout",
          "text": [
            "Epoch [7/10] Train Loss: 0.36965903797134847\n"
          ]
        },
        {
          "output_type": "stream",
          "name": "stderr",
          "text": [
            "Validation: 100%|██████████| 69/69 [00:04<00:00, 15.95it/s, loss=0.291]\n"
          ]
        },
        {
          "output_type": "stream",
          "name": "stdout",
          "text": [
            "Epoch [7/10] Validation Loss: 0.29133199112138886\n"
          ]
        },
        {
          "output_type": "stream",
          "name": "stderr",
          "text": [
            "Training: 100%|██████████| 161/161 [00:13<00:00, 11.57it/s, loss=0.346]\n"
          ]
        },
        {
          "output_type": "stream",
          "name": "stdout",
          "text": [
            "Epoch [8/10] Train Loss: 0.3458939840704758\n"
          ]
        },
        {
          "output_type": "stream",
          "name": "stderr",
          "text": [
            "Validation: 100%|██████████| 69/69 [00:04<00:00, 16.09it/s, loss=0.274]\n"
          ]
        },
        {
          "output_type": "stream",
          "name": "stdout",
          "text": [
            "Epoch [8/10] Validation Loss: 0.27430300004240393\n"
          ]
        },
        {
          "output_type": "stream",
          "name": "stderr",
          "text": [
            "Training: 100%|██████████| 161/161 [00:14<00:00, 11.18it/s, loss=0.321]\n"
          ]
        },
        {
          "output_type": "stream",
          "name": "stdout",
          "text": [
            "Epoch [9/10] Train Loss: 0.32138174017949134\n"
          ]
        },
        {
          "output_type": "stream",
          "name": "stderr",
          "text": [
            "Validation: 100%|██████████| 69/69 [00:04<00:00, 14.73it/s, loss=0.255]\n"
          ]
        },
        {
          "output_type": "stream",
          "name": "stdout",
          "text": [
            "Epoch [9/10] Validation Loss: 0.25494060481804004\n"
          ]
        },
        {
          "output_type": "stream",
          "name": "stderr",
          "text": [
            "Training: 100%|██████████| 161/161 [00:14<00:00, 11.49it/s, loss=0.307]\n"
          ]
        },
        {
          "output_type": "stream",
          "name": "stdout",
          "text": [
            "Epoch [10/10] Train Loss: 0.3068325626924171\n"
          ]
        },
        {
          "output_type": "stream",
          "name": "stderr",
          "text": [
            "Validation: 100%|██████████| 69/69 [00:04<00:00, 16.07it/s, loss=0.251]"
          ]
        },
        {
          "output_type": "stream",
          "name": "stdout",
          "text": [
            "Epoch [10/10] Validation Loss: 0.25135353391153226\n"
          ]
        },
        {
          "output_type": "stream",
          "name": "stderr",
          "text": [
            "\n"
          ]
        }
      ],
      "source": [
        "#Fine tune this new model with loras of rank 1, on MNIST 5...9\n",
        "train_loss_lst_lora_rank1, val_loss_lst_lora_rank1 = train(train_loader_subset2, val_loader_subset2, \"subset2\", modified_net, epochs=10)"
      ],
      "id": "yYB927Nnc3js"
    },
    {
      "cell_type": "code",
      "execution_count": 68,
      "metadata": {
        "cell_ktag": "2aOSDzdHvY5f",
        "colab": {
          "base_uri": "https://localhost:8080/"
        },
        "id": "-nU9vAR8c3js",
        "outputId": "c7797fcc-3e9c-49e0-b799-6b42f908b7ee"
      },
      "outputs": [
        {
          "output_type": "stream",
          "name": "stdout",
          "text": [
            "Frozen parameters remained unchanged during fine-tuning.\n"
          ]
        }
      ],
      "source": [
        "# Check that the frozen parameters are still unchanged by the finetuning\n",
        "# Remember the dictionary \"original_weights\"\n",
        "for name, param in modified_net.pretrained_net.named_parameters():\n",
        "    assert torch.equal(param, original_weights[name]), f\"Frozen parameter {name} has changed during fine-tuning!\"\n",
        "\n",
        "print(\"Frozen parameters remained unchanged during fine-tuning.\")"
      ],
      "id": "-nU9vAR8c3js"
    },
    {
      "cell_type": "code",
      "execution_count": 69,
      "metadata": {
        "cell_ktag": "2aOSDzdHvY5f",
        "colab": {
          "base_uri": "https://localhost:8080/",
          "height": 430
        },
        "id": "-okAIUvBc3js",
        "outputId": "a6344eac-5191-4615-8aef-37b8248c24eb"
      },
      "outputs": [
        {
          "output_type": "display_data",
          "data": {
            "text/plain": [
              "<Figure size 640x480 with 1 Axes>"
            ],
            "image/png": "[encoded data removed]"
          },
          "metadata": {}
        }
      ],
      "source": [
        "#plot losses\n",
        "plot_losses(train_loss_lst_lora_rank1, val_loss_lst_lora_rank1)"
      ],
      "id": "-okAIUvBc3js"
    },
    {
      "cell_type": "code",
      "execution_count": 70,
      "metadata": {
        "cell_ktag": "2aOSDzdHvY5f",
        "colab": {
          "base_uri": "https://localhost:8080/"
        },
        "id": "2s4UTkhVc3js",
        "outputId": "33242c9f-c56d-4f51-fe1b-017b10412e11"
      },
      "outputs": [
        {
          "output_type": "stream",
          "name": "stderr",
          "text": [
            "Testing subset2: 100%|██████████| 38/38 [00:02<00:00, 12.75it/s]"
          ]
        },
        {
          "output_type": "stream",
          "name": "stdout",
          "text": [
            "Accuracy: 0.929\n",
            "Wrong counts for the digit 5: 91\n",
            "Wrong counts for the digit 6: 24\n",
            "Wrong counts for the digit 7: 57\n",
            "Wrong counts for the digit 8: 82\n",
            "Wrong counts for the digit 9: 92\n",
            "Test accuracy on MNIST 5...9 for LoRA rank 1: 0.929\n"
          ]
        },
        {
          "output_type": "stream",
          "name": "stderr",
          "text": [
            "\n"
          ]
        }
      ],
      "source": [
        "#Compute test accuracy on MNIST 5...9 for that lora rank\n",
        "wrong_counts_subset2_lora_rank1 = {i: 0 for i in range(5, 10)}\n",
        "accuracy_subset2_lora_rank1 = test(test_loader_subset2, \"Testing subset2\", modified_net, wrong_counts_subset2_lora_rank1)\n",
        "print(f\"Test accuracy on MNIST 5...9 for LoRA rank 1: {accuracy_subset2_lora_rank1}\")"
      ],
      "id": "2s4UTkhVc3js"
    },
    {
      "cell_type": "markdown",
      "metadata": {
        "cell_ktag": "2aOSDzdHvY5f",
        "id": "6kLi-x_xc3js"
      },
      "source": [
        "# Try different LoRA rank"
      ],
      "id": "6kLi-x_xc3js"
    },
    {
      "cell_type": "markdown",
      "metadata": {
        "cell_ktag": "2aOSDzdHvY5f",
        "id": "J8da6qNwc3jt"
      },
      "source": [
        "__Question 6 (4 points) :__"
      ],
      "id": "J8da6qNwc3jt"
    },
    {
      "cell_type": "markdown",
      "metadata": {
        "cell_ktag": "2aOSDzdHvY5f",
        "id": "rAYKBzG0c3jt"
      },
      "source": [
        "Fine-tune the pre-trained model using different lora ranks [1,2,4,8,16,32,64], evaluate it on the test set\n",
        "and store the number of parameters added\n",
        "\n",
        "Make a plot showing the test accuracy as a function of lora rank. \\\n",
        "Compare it to the test accuracy of the pre-trained model fine-tuned in the usual way on MNIST 5...9\n",
        "\n",
        "Conclude by looking at the number of parameters added\n",
        "\n",
        "Discuss what are the pros of LoRA, what possible applications do you envision for it ?"
      ],
      "id": "rAYKBzG0c3jt"
    },
    {
      "cell_type": "code",
      "execution_count": 72,
      "metadata": {
        "cell_ktag": "2aOSDzdHvY5f",
        "colab": {
          "base_uri": "https://localhost:8080/",
          "height": 1000
        },
        "id": "tjYCc-l1c3jt",
        "outputId": "0bd5c525-c362-408f-90be-a5b93f5cd9b4"
      },
      "outputs": [
        {
          "output_type": "stream",
          "name": "stdout",
          "text": [
            "Fine-tuning with LoRA rank 1\n"
          ]
        },
        {
          "output_type": "stream",
          "name": "stderr",
          "text": [
            "Training: 100%|██████████| 161/161 [00:14<00:00, 11.42it/s, loss=3.71]\n"
          ]
        },
        {
          "output_type": "stream",
          "name": "stdout",
          "text": [
            "Epoch [1/10] Train Loss: 3.705724877600344\n"
          ]
        },
        {
          "output_type": "stream",
          "name": "stderr",
          "text": [
            "Validation: 100%|██████████| 69/69 [00:04<00:00, 16.47it/s, loss=1.57]\n"
          ]
        },
        {
          "output_type": "stream",
          "name": "stdout",
          "text": [
            "Epoch [1/10] Validation Loss: 1.5706730113513228\n"
          ]
        },
        {
          "output_type": "stream",
          "name": "stderr",
          "text": [
            "Training: 100%|██████████| 161/161 [00:13<00:00, 11.67it/s, loss=1.24]\n"
          ]
        },
        {
          "output_type": "stream",
          "name": "stdout",
          "text": [
            "Epoch [2/10] Train Loss: 1.2430850004557497\n"
          ]
        },
        {
          "output_type": "stream",
          "name": "stderr",
          "text": [
            "Validation: 100%|██████████| 69/69 [00:05<00:00, 13.62it/s, loss=0.872]\n"
          ]
        },
        {
          "output_type": "stream",
          "name": "stdout",
          "text": [
            "Epoch [2/10] Validation Loss: 0.872330992118172\n"
          ]
        },
        {
          "output_type": "stream",
          "name": "stderr",
          "text": [
            "Training: 100%|██████████| 161/161 [00:13<00:00, 11.76it/s, loss=0.758]\n"
          ]
        },
        {
          "output_type": "stream",
          "name": "stdout",
          "text": [
            "Epoch [3/10] Train Loss: 0.7584588072314766\n"
          ]
        },
        {
          "output_type": "stream",
          "name": "stderr",
          "text": [
            "Validation: 100%|██████████| 69/69 [00:04<00:00, 16.17it/s, loss=0.565]\n"
          ]
        },
        {
          "output_type": "stream",
          "name": "stdout",
          "text": [
            "Epoch [3/10] Validation Loss: 0.564729893985002\n"
          ]
        },
        {
          "output_type": "stream",
          "name": "stderr",
          "text": [
            "Training: 100%|██████████| 161/161 [00:14<00:00, 11.41it/s, loss=0.557]\n"
          ]
        },
        {
          "output_type": "stream",
          "name": "stdout",
          "text": [
            "Epoch [4/10] Train Loss: 0.5565332244642033\n"
          ]
        },
        {
          "output_type": "stream",
          "name": "stderr",
          "text": [
            "Validation: 100%|██████████| 69/69 [00:05<00:00, 13.69it/s, loss=0.436]\n"
          ]
        },
        {
          "output_type": "stream",
          "name": "stdout",
          "text": [
            "Epoch [4/10] Validation Loss: 0.4361451380494712\n"
          ]
        },
        {
          "output_type": "stream",
          "name": "stderr",
          "text": [
            "Training: 100%|██████████| 161/161 [00:13<00:00, 11.64it/s, loss=0.459]\n"
          ]
        },
        {
          "output_type": "stream",
          "name": "stdout",
          "text": [
            "Epoch [5/10] Train Loss: 0.45935133451260396\n"
          ]
        },
        {
          "output_type": "stream",
          "name": "stderr",
          "text": [
            "Validation: 100%|██████████| 69/69 [00:04<00:00, 16.31it/s, loss=0.378]\n"
          ]
        },
        {
          "output_type": "stream",
          "name": "stdout",
          "text": [
            "Epoch [5/10] Validation Loss: 0.37835339640361676\n"
          ]
        },
        {
          "output_type": "stream",
          "name": "stderr",
          "text": [
            "Training: 100%|██████████| 161/161 [00:13<00:00, 11.62it/s, loss=0.403]\n"
          ]
        },
        {
          "output_type": "stream",
          "name": "stdout",
          "text": [
            "Epoch [6/10] Train Loss: 0.4032886816848139\n"
          ]
        },
        {
          "output_type": "stream",
          "name": "stderr",
          "text": [
            "Validation: 100%|██████████| 69/69 [00:04<00:00, 14.82it/s, loss=0.341]\n"
          ]
        },
        {
          "output_type": "stream",
          "name": "stdout",
          "text": [
            "Epoch [6/10] Validation Loss: 0.34053416614947113\n"
          ]
        },
        {
          "output_type": "stream",
          "name": "stderr",
          "text": [
            "Training: 100%|██████████| 161/161 [00:14<00:00, 11.20it/s, loss=0.368]\n"
          ]
        },
        {
          "output_type": "stream",
          "name": "stdout",
          "text": [
            "Epoch [7/10] Train Loss: 0.36797853462074115\n"
          ]
        },
        {
          "output_type": "stream",
          "name": "stderr",
          "text": [
            "Validation: 100%|██████████| 69/69 [00:04<00:00, 16.20it/s, loss=0.319]\n"
          ]
        },
        {
          "output_type": "stream",
          "name": "stdout",
          "text": [
            "Epoch [7/10] Validation Loss: 0.3189485958520917\n"
          ]
        },
        {
          "output_type": "stream",
          "name": "stderr",
          "text": [
            "Training: 100%|██████████| 161/161 [00:13<00:00, 11.68it/s, loss=0.348]\n"
          ]
        },
        {
          "output_type": "stream",
          "name": "stdout",
          "text": [
            "Epoch [8/10] Train Loss: 0.34784684529215654\n"
          ]
        },
        {
          "output_type": "stream",
          "name": "stderr",
          "text": [
            "Validation: 100%|██████████| 69/69 [00:04<00:00, 16.20it/s, loss=0.299]\n"
          ]
        },
        {
          "output_type": "stream",
          "name": "stdout",
          "text": [
            "Epoch [8/10] Validation Loss: 0.2991987384747768\n"
          ]
        },
        {
          "output_type": "stream",
          "name": "stderr",
          "text": [
            "Training: 100%|██████████| 161/161 [00:14<00:00, 11.07it/s, loss=0.328]\n"
          ]
        },
        {
          "output_type": "stream",
          "name": "stdout",
          "text": [
            "Epoch [9/10] Train Loss: 0.32811550721988914\n"
          ]
        },
        {
          "output_type": "stream",
          "name": "stderr",
          "text": [
            "Validation: 100%|██████████| 69/69 [00:04<00:00, 14.74it/s, loss=0.282]\n"
          ]
        },
        {
          "output_type": "stream",
          "name": "stdout",
          "text": [
            "Epoch [9/10] Validation Loss: 0.28150377476560895\n"
          ]
        },
        {
          "output_type": "stream",
          "name": "stderr",
          "text": [
            "Training: 100%|██████████| 161/161 [00:14<00:00, 11.31it/s, loss=0.314]\n"
          ]
        },
        {
          "output_type": "stream",
          "name": "stdout",
          "text": [
            "Epoch [10/10] Train Loss: 0.31425390175040463\n"
          ]
        },
        {
          "output_type": "stream",
          "name": "stderr",
          "text": [
            "Validation: 100%|██████████| 69/69 [00:04<00:00, 15.88it/s, loss=0.268]\n"
          ]
        },
        {
          "output_type": "stream",
          "name": "stdout",
          "text": [
            "Epoch [10/10] Validation Loss: 0.26823509819265723\n"
          ]
        },
        {
          "output_type": "stream",
          "name": "stderr",
          "text": [
            "Testing subset2: 100%|██████████| 38/38 [00:03<00:00, 12.56it/s]\n"
          ]
        },
        {
          "output_type": "stream",
          "name": "stdout",
          "text": [
            "Accuracy: 0.933\n",
            "Wrong counts for the digit 5: 90\n",
            "Wrong counts for the digit 6: 26\n",
            "Wrong counts for the digit 7: 48\n",
            "Wrong counts for the digit 8: 88\n",
            "Wrong counts for the digit 9: 76\n",
            "Test accuracy on MNIST 5...9 for LoRA rank 1: 0.933\n",
            "Number of parameters introduced by LoRA rank 1: 6789\n",
            "---\n",
            "Fine-tuning with LoRA rank 2\n"
          ]
        },
        {
          "output_type": "stream",
          "name": "stderr",
          "text": [
            "Training: 100%|██████████| 161/161 [00:13<00:00, 11.67it/s, loss=3.38]\n"
          ]
        },
        {
          "output_type": "stream",
          "name": "stdout",
          "text": [
            "Epoch [1/10] Train Loss: 3.3838903963195612\n"
          ]
        },
        {
          "output_type": "stream",
          "name": "stderr",
          "text": [
            "Validation: 100%|██████████| 69/69 [00:04<00:00, 16.36it/s, loss=0.999]\n"
          ]
        },
        {
          "output_type": "stream",
          "name": "stdout",
          "text": [
            "Epoch [1/10] Validation Loss: 0.9994122299595155\n"
          ]
        },
        {
          "output_type": "stream",
          "name": "stderr",
          "text": [
            "Training: 100%|██████████| 161/161 [00:13<00:00, 11.58it/s, loss=0.722]\n"
          ]
        },
        {
          "output_type": "stream",
          "name": "stdout",
          "text": [
            "Epoch [2/10] Train Loss: 0.7215409388083108\n"
          ]
        },
        {
          "output_type": "stream",
          "name": "stderr",
          "text": [
            "Validation: 100%|██████████| 69/69 [00:04<00:00, 15.47it/s, loss=0.443]\n"
          ]
        },
        {
          "output_type": "stream",
          "name": "stdout",
          "text": [
            "Epoch [2/10] Validation Loss: 0.44295522764973017\n"
          ]
        },
        {
          "output_type": "stream",
          "name": "stderr",
          "text": [
            "Training: 100%|██████████| 161/161 [00:15<00:00, 10.71it/s, loss=0.449]\n"
          ]
        },
        {
          "output_type": "stream",
          "name": "stdout",
          "text": [
            "Epoch [3/10] Train Loss: 0.44929533215783396\n"
          ]
        },
        {
          "output_type": "stream",
          "name": "stderr",
          "text": [
            "Validation: 100%|██████████| 69/69 [00:04<00:00, 15.78it/s, loss=0.327]\n"
          ]
        },
        {
          "output_type": "stream",
          "name": "stdout",
          "text": [
            "Epoch [3/10] Validation Loss: 0.3272594131421352\n"
          ]
        },
        {
          "output_type": "stream",
          "name": "stderr",
          "text": [
            "Training: 100%|██████████| 161/161 [00:14<00:00, 11.30it/s, loss=0.359]\n"
          ]
        },
        {
          "output_type": "stream",
          "name": "stdout",
          "text": [
            "Epoch [4/10] Train Loss: 0.35865537442775985\n"
          ]
        },
        {
          "output_type": "stream",
          "name": "stderr",
          "text": [
            "Validation: 100%|██████████| 69/69 [00:04<00:00, 14.74it/s, loss=0.268]\n"
          ]
        },
        {
          "output_type": "stream",
          "name": "stdout",
          "text": [
            "Epoch [4/10] Validation Loss: 0.26791336117447284\n"
          ]
        },
        {
          "output_type": "stream",
          "name": "stderr",
          "text": [
            "Training: 100%|██████████| 161/161 [00:14<00:00, 10.86it/s, loss=0.308]\n"
          ]
        },
        {
          "output_type": "stream",
          "name": "stdout",
          "text": [
            "Epoch [5/10] Train Loss: 0.30777897644117014\n"
          ]
        },
        {
          "output_type": "stream",
          "name": "stderr",
          "text": [
            "Validation: 100%|██████████| 69/69 [00:04<00:00, 16.02it/s, loss=0.235]\n"
          ]
        },
        {
          "output_type": "stream",
          "name": "stdout",
          "text": [
            "Epoch [5/10] Validation Loss: 0.23500054308037827\n"
          ]
        },
        {
          "output_type": "stream",
          "name": "stderr",
          "text": [
            "Training: 100%|██████████| 161/161 [00:14<00:00, 11.31it/s, loss=0.283]\n"
          ]
        },
        {
          "output_type": "stream",
          "name": "stdout",
          "text": [
            "Epoch [6/10] Train Loss: 0.28332047909498215\n"
          ]
        },
        {
          "output_type": "stream",
          "name": "stderr",
          "text": [
            "Validation: 100%|██████████| 69/69 [00:04<00:00, 15.43it/s, loss=0.219]\n"
          ]
        },
        {
          "output_type": "stream",
          "name": "stdout",
          "text": [
            "Epoch [6/10] Validation Loss: 0.2186840820139733\n"
          ]
        },
        {
          "output_type": "stream",
          "name": "stderr",
          "text": [
            "Training: 100%|██████████| 161/161 [00:14<00:00, 10.75it/s, loss=0.257]\n"
          ]
        },
        {
          "output_type": "stream",
          "name": "stdout",
          "text": [
            "Epoch [7/10] Train Loss: 0.2572187992356579\n"
          ]
        },
        {
          "output_type": "stream",
          "name": "stderr",
          "text": [
            "Validation: 100%|██████████| 69/69 [00:04<00:00, 15.68it/s, loss=0.201]\n"
          ]
        },
        {
          "output_type": "stream",
          "name": "stdout",
          "text": [
            "Epoch [7/10] Validation Loss: 0.2008186327158541\n"
          ]
        },
        {
          "output_type": "stream",
          "name": "stderr",
          "text": [
            "Training: 100%|██████████| 161/161 [00:14<00:00, 11.24it/s, loss=0.238]\n"
          ]
        },
        {
          "output_type": "stream",
          "name": "stdout",
          "text": [
            "Epoch [8/10] Train Loss: 0.23812541805254006\n"
          ]
        },
        {
          "output_type": "stream",
          "name": "stderr",
          "text": [
            "Validation: 100%|██████████| 69/69 [00:04<00:00, 15.24it/s, loss=0.192]\n"
          ]
        },
        {
          "output_type": "stream",
          "name": "stdout",
          "text": [
            "Epoch [8/10] Validation Loss: 0.19203306043493576\n"
          ]
        },
        {
          "output_type": "stream",
          "name": "stderr",
          "text": [
            "Training: 100%|██████████| 161/161 [00:15<00:00, 10.71it/s, loss=0.229]\n"
          ]
        },
        {
          "output_type": "stream",
          "name": "stdout",
          "text": [
            "Epoch [9/10] Train Loss: 0.22890274786615963\n"
          ]
        },
        {
          "output_type": "stream",
          "name": "stderr",
          "text": [
            "Validation: 100%|██████████| 69/69 [00:04<00:00, 15.53it/s, loss=0.185]\n"
          ]
        },
        {
          "output_type": "stream",
          "name": "stdout",
          "text": [
            "Epoch [9/10] Validation Loss: 0.1850450083181478\n"
          ]
        },
        {
          "output_type": "stream",
          "name": "stderr",
          "text": [
            "Training: 100%|██████████| 161/161 [00:14<00:00, 11.16it/s, loss=0.22]\n"
          ]
        },
        {
          "output_type": "stream",
          "name": "stdout",
          "text": [
            "Epoch [10/10] Train Loss: 0.21988766783883112\n"
          ]
        },
        {
          "output_type": "stream",
          "name": "stderr",
          "text": [
            "Validation: 100%|██████████| 69/69 [00:04<00:00, 15.19it/s, loss=0.172]\n"
          ]
        },
        {
          "output_type": "stream",
          "name": "stdout",
          "text": [
            "Epoch [10/10] Validation Loss: 0.17151864391306174\n"
          ]
        },
        {
          "output_type": "stream",
          "name": "stderr",
          "text": [
            "Testing subset2: 100%|██████████| 38/38 [00:02<00:00, 12.97it/s]\n"
          ]
        },
        {
          "output_type": "stream",
          "name": "stdout",
          "text": [
            "Accuracy: 0.945\n",
            "Wrong counts for the digit 5: 54\n",
            "Wrong counts for the digit 6: 25\n",
            "Wrong counts for the digit 7: 44\n",
            "Wrong counts for the digit 8: 80\n",
            "Wrong counts for the digit 9: 66\n",
            "Test accuracy on MNIST 5...9 for LoRA rank 2: 0.945\n",
            "Number of parameters introduced by LoRA rank 2: 13578\n",
            "---\n",
            "Fine-tuning with LoRA rank 4\n"
          ]
        },
        {
          "output_type": "stream",
          "name": "stderr",
          "text": [
            "Training: 100%|██████████| 161/161 [00:13<00:00, 11.66it/s, loss=2.23]\n"
          ]
        },
        {
          "output_type": "stream",
          "name": "stdout",
          "text": [
            "Epoch [1/10] Train Loss: 2.2328316511944952\n"
          ]
        },
        {
          "output_type": "stream",
          "name": "stderr",
          "text": [
            "Validation: 100%|██████████| 69/69 [00:04<00:00, 16.28it/s, loss=0.45]\n"
          ]
        },
        {
          "output_type": "stream",
          "name": "stdout",
          "text": [
            "Epoch [1/10] Validation Loss: 0.4503904304642608\n"
          ]
        },
        {
          "output_type": "stream",
          "name": "stderr",
          "text": [
            "Training: 100%|██████████| 161/161 [00:14<00:00, 11.44it/s, loss=0.42]\n"
          ]
        },
        {
          "output_type": "stream",
          "name": "stdout",
          "text": [
            "Epoch [2/10] Train Loss: 0.419788471475151\n"
          ]
        },
        {
          "output_type": "stream",
          "name": "stderr",
          "text": [
            "Validation: 100%|██████████| 69/69 [00:05<00:00, 13.65it/s, loss=0.293]\n"
          ]
        },
        {
          "output_type": "stream",
          "name": "stdout",
          "text": [
            "Epoch [2/10] Validation Loss: 0.2927076989325924\n"
          ]
        },
        {
          "output_type": "stream",
          "name": "stderr",
          "text": [
            "Training: 100%|██████████| 161/161 [00:14<00:00, 11.40it/s, loss=0.302]\n"
          ]
        },
        {
          "output_type": "stream",
          "name": "stdout",
          "text": [
            "Epoch [3/10] Train Loss: 0.30190729150860945\n"
          ]
        },
        {
          "output_type": "stream",
          "name": "stderr",
          "text": [
            "Validation: 100%|██████████| 69/69 [00:04<00:00, 15.97it/s, loss=0.225]\n"
          ]
        },
        {
          "output_type": "stream",
          "name": "stdout",
          "text": [
            "Epoch [3/10] Validation Loss: 0.22493922645631043\n"
          ]
        },
        {
          "output_type": "stream",
          "name": "stderr",
          "text": [
            "Training: 100%|██████████| 161/161 [00:14<00:00, 11.32it/s, loss=0.254]\n"
          ]
        },
        {
          "output_type": "stream",
          "name": "stdout",
          "text": [
            "Epoch [4/10] Train Loss: 0.2540815384676738\n"
          ]
        },
        {
          "output_type": "stream",
          "name": "stderr",
          "text": [
            "Validation: 100%|██████████| 69/69 [00:04<00:00, 14.04it/s, loss=0.187]\n"
          ]
        },
        {
          "output_type": "stream",
          "name": "stdout",
          "text": [
            "Epoch [4/10] Validation Loss: 0.18738997025766235\n"
          ]
        },
        {
          "output_type": "stream",
          "name": "stderr",
          "text": [
            "Training: 100%|██████████| 161/161 [00:14<00:00, 11.09it/s, loss=0.222]\n"
          ]
        },
        {
          "output_type": "stream",
          "name": "stdout",
          "text": [
            "Epoch [5/10] Train Loss: 0.22166287866623505\n"
          ]
        },
        {
          "output_type": "stream",
          "name": "stderr",
          "text": [
            "Validation: 100%|██████████| 69/69 [00:04<00:00, 15.87it/s, loss=0.168]\n"
          ]
        },
        {
          "output_type": "stream",
          "name": "stdout",
          "text": [
            "Epoch [5/10] Validation Loss: 0.16780881302944128\n"
          ]
        },
        {
          "output_type": "stream",
          "name": "stderr",
          "text": [
            "Training: 100%|██████████| 161/161 [00:14<00:00, 11.42it/s, loss=0.198]\n"
          ]
        },
        {
          "output_type": "stream",
          "name": "stdout",
          "text": [
            "Epoch [6/10] Train Loss: 0.19835734774607308\n"
          ]
        },
        {
          "output_type": "stream",
          "name": "stderr",
          "text": [
            "Validation: 100%|██████████| 69/69 [00:04<00:00, 14.78it/s, loss=0.147]\n"
          ]
        },
        {
          "output_type": "stream",
          "name": "stdout",
          "text": [
            "Epoch [6/10] Validation Loss: 0.14742845977130142\n"
          ]
        },
        {
          "output_type": "stream",
          "name": "stderr",
          "text": [
            "Training: 100%|██████████| 161/161 [00:14<00:00, 11.01it/s, loss=0.183]\n"
          ]
        },
        {
          "output_type": "stream",
          "name": "stdout",
          "text": [
            "Epoch [7/10] Train Loss: 0.18323538683771345\n"
          ]
        },
        {
          "output_type": "stream",
          "name": "stderr",
          "text": [
            "Validation: 100%|██████████| 69/69 [00:04<00:00, 16.20it/s, loss=0.139]\n"
          ]
        },
        {
          "output_type": "stream",
          "name": "stdout",
          "text": [
            "Epoch [7/10] Validation Loss: 0.13873719542786694\n"
          ]
        },
        {
          "output_type": "stream",
          "name": "stderr",
          "text": [
            "Training: 100%|██████████| 161/161 [00:14<00:00, 11.50it/s, loss=0.178]\n"
          ]
        },
        {
          "output_type": "stream",
          "name": "stdout",
          "text": [
            "Epoch [8/10] Train Loss: 0.17764972418731784\n"
          ]
        },
        {
          "output_type": "stream",
          "name": "stderr",
          "text": [
            "Validation: 100%|██████████| 69/69 [00:04<00:00, 15.72it/s, loss=0.132]\n"
          ]
        },
        {
          "output_type": "stream",
          "name": "stdout",
          "text": [
            "Epoch [8/10] Validation Loss: 0.1320631042446779\n"
          ]
        },
        {
          "output_type": "stream",
          "name": "stderr",
          "text": [
            "Training: 100%|██████████| 161/161 [00:14<00:00, 10.98it/s, loss=0.16]\n"
          ]
        },
        {
          "output_type": "stream",
          "name": "stdout",
          "text": [
            "Epoch [9/10] Train Loss: 0.15998973299442612\n"
          ]
        },
        {
          "output_type": "stream",
          "name": "stderr",
          "text": [
            "Validation: 100%|██████████| 69/69 [00:04<00:00, 15.13it/s, loss=0.125]\n"
          ]
        },
        {
          "output_type": "stream",
          "name": "stdout",
          "text": [
            "Epoch [9/10] Validation Loss: 0.12496359754299773\n"
          ]
        },
        {
          "output_type": "stream",
          "name": "stderr",
          "text": [
            "Training: 100%|██████████| 161/161 [00:14<00:00, 11.18it/s, loss=0.159]\n"
          ]
        },
        {
          "output_type": "stream",
          "name": "stdout",
          "text": [
            "Epoch [10/10] Train Loss: 0.15863227483278475\n"
          ]
        },
        {
          "output_type": "stream",
          "name": "stderr",
          "text": [
            "Validation: 100%|██████████| 69/69 [00:04<00:00, 15.68it/s, loss=0.127]\n"
          ]
        },
        {
          "output_type": "stream",
          "name": "stdout",
          "text": [
            "Epoch [10/10] Validation Loss: 0.12703658651182617\n"
          ]
        },
        {
          "output_type": "stream",
          "name": "stderr",
          "text": [
            "Testing subset2: 100%|██████████| 38/38 [00:03<00:00, 12.15it/s]\n"
          ]
        },
        {
          "output_type": "stream",
          "name": "stdout",
          "text": [
            "Accuracy: 0.958\n",
            "Wrong counts for the digit 5: 40\n",
            "Wrong counts for the digit 6: 17\n",
            "Wrong counts for the digit 7: 28\n",
            "Wrong counts for the digit 8: 51\n",
            "Wrong counts for the digit 9: 67\n",
            "Test accuracy on MNIST 5...9 for LoRA rank 4: 0.958\n",
            "Number of parameters introduced by LoRA rank 4: 27156\n",
            "---\n",
            "Fine-tuning with LoRA rank 8\n"
          ]
        },
        {
          "output_type": "stream",
          "name": "stderr",
          "text": [
            "Training: 100%|██████████| 161/161 [00:14<00:00, 11.34it/s, loss=1.36]\n"
          ]
        },
        {
          "output_type": "stream",
          "name": "stdout",
          "text": [
            "Epoch [1/10] Train Loss: 1.364543990133712\n"
          ]
        },
        {
          "output_type": "stream",
          "name": "stderr",
          "text": [
            "Validation: 100%|██████████| 69/69 [00:04<00:00, 15.94it/s, loss=0.303]\n"
          ]
        },
        {
          "output_type": "stream",
          "name": "stdout",
          "text": [
            "Epoch [1/10] Validation Loss: 0.3030712945737701\n"
          ]
        },
        {
          "output_type": "stream",
          "name": "stderr",
          "text": [
            "Training: 100%|██████████| 161/161 [00:14<00:00, 11.16it/s, loss=0.274]\n"
          ]
        },
        {
          "output_type": "stream",
          "name": "stdout",
          "text": [
            "Epoch [2/10] Train Loss: 0.27367924255613957\n"
          ]
        },
        {
          "output_type": "stream",
          "name": "stderr",
          "text": [
            "Validation: 100%|██████████| 69/69 [00:05<00:00, 13.32it/s, loss=0.182]\n"
          ]
        },
        {
          "output_type": "stream",
          "name": "stdout",
          "text": [
            "Epoch [2/10] Validation Loss: 0.18193301893230798\n"
          ]
        },
        {
          "output_type": "stream",
          "name": "stderr",
          "text": [
            "Training: 100%|██████████| 161/161 [00:14<00:00, 11.38it/s, loss=0.204]\n"
          ]
        },
        {
          "output_type": "stream",
          "name": "stdout",
          "text": [
            "Epoch [3/10] Train Loss: 0.20414842438438666\n"
          ]
        },
        {
          "output_type": "stream",
          "name": "stderr",
          "text": [
            "Validation: 100%|██████████| 69/69 [00:04<00:00, 16.10it/s, loss=0.136]\n"
          ]
        },
        {
          "output_type": "stream",
          "name": "stdout",
          "text": [
            "Epoch [3/10] Validation Loss: 0.1364924608581308\n"
          ]
        },
        {
          "output_type": "stream",
          "name": "stderr",
          "text": [
            "Training: 100%|██████████| 161/161 [00:14<00:00, 11.35it/s, loss=0.165]\n"
          ]
        },
        {
          "output_type": "stream",
          "name": "stdout",
          "text": [
            "Epoch [4/10] Train Loss: 0.16540743794685564\n"
          ]
        },
        {
          "output_type": "stream",
          "name": "stderr",
          "text": [
            "Validation: 100%|██████████| 69/69 [00:04<00:00, 13.97it/s, loss=0.117]\n"
          ]
        },
        {
          "output_type": "stream",
          "name": "stdout",
          "text": [
            "Epoch [4/10] Validation Loss: 0.11716000811345335\n"
          ]
        },
        {
          "output_type": "stream",
          "name": "stderr",
          "text": [
            "Training: 100%|██████████| 161/161 [00:14<00:00, 10.96it/s, loss=0.147]\n"
          ]
        },
        {
          "output_type": "stream",
          "name": "stdout",
          "text": [
            "Epoch [5/10] Train Loss: 0.14662198884331662\n"
          ]
        },
        {
          "output_type": "stream",
          "name": "stderr",
          "text": [
            "Validation: 100%|██████████| 69/69 [00:04<00:00, 15.60it/s, loss=0.107]\n"
          ]
        },
        {
          "output_type": "stream",
          "name": "stdout",
          "text": [
            "Epoch [5/10] Validation Loss: 0.10666335854625357\n"
          ]
        },
        {
          "output_type": "stream",
          "name": "stderr",
          "text": [
            "Training: 100%|██████████| 161/161 [00:14<00:00, 11.31it/s, loss=0.133]\n"
          ]
        },
        {
          "output_type": "stream",
          "name": "stdout",
          "text": [
            "Epoch [6/10] Train Loss: 0.13293918323998125\n"
          ]
        },
        {
          "output_type": "stream",
          "name": "stderr",
          "text": [
            "Validation: 100%|██████████| 69/69 [00:04<00:00, 14.34it/s, loss=0.102]\n"
          ]
        },
        {
          "output_type": "stream",
          "name": "stdout",
          "text": [
            "Epoch [6/10] Validation Loss: 0.10224625662617061\n"
          ]
        },
        {
          "output_type": "stream",
          "name": "stderr",
          "text": [
            "Training: 100%|██████████| 161/161 [00:14<00:00, 11.15it/s, loss=0.12]\n"
          ]
        },
        {
          "output_type": "stream",
          "name": "stdout",
          "text": [
            "Epoch [7/10] Train Loss: 0.11951031297537851\n"
          ]
        },
        {
          "output_type": "stream",
          "name": "stderr",
          "text": [
            "Validation: 100%|██████████| 69/69 [00:04<00:00, 16.28it/s, loss=0.0879]\n"
          ]
        },
        {
          "output_type": "stream",
          "name": "stdout",
          "text": [
            "Epoch [7/10] Validation Loss: 0.08790507880241974\n"
          ]
        },
        {
          "output_type": "stream",
          "name": "stderr",
          "text": [
            "Training: 100%|██████████| 161/161 [00:14<00:00, 11.32it/s, loss=0.109]\n"
          ]
        },
        {
          "output_type": "stream",
          "name": "stdout",
          "text": [
            "Epoch [8/10] Train Loss: 0.10882167330717449\n"
          ]
        },
        {
          "output_type": "stream",
          "name": "stderr",
          "text": [
            "Validation: 100%|██████████| 69/69 [00:04<00:00, 15.19it/s, loss=0.0882]\n"
          ]
        },
        {
          "output_type": "stream",
          "name": "stdout",
          "text": [
            "Epoch [8/10] Validation Loss: 0.08817259354543859\n"
          ]
        },
        {
          "output_type": "stream",
          "name": "stderr",
          "text": [
            "Training: 100%|██████████| 161/161 [00:14<00:00, 10.97it/s, loss=0.104]\n"
          ]
        },
        {
          "output_type": "stream",
          "name": "stdout",
          "text": [
            "Epoch [9/10] Train Loss: 0.10379376596776965\n"
          ]
        },
        {
          "output_type": "stream",
          "name": "stderr",
          "text": [
            "Validation: 100%|██████████| 69/69 [00:04<00:00, 16.07it/s, loss=0.0823]\n"
          ]
        },
        {
          "output_type": "stream",
          "name": "stdout",
          "text": [
            "Epoch [9/10] Validation Loss: 0.08226397679443809\n"
          ]
        },
        {
          "output_type": "stream",
          "name": "stderr",
          "text": [
            "Training: 100%|██████████| 161/161 [00:14<00:00, 11.15it/s, loss=0.0955]\n"
          ]
        },
        {
          "output_type": "stream",
          "name": "stdout",
          "text": [
            "Epoch [10/10] Train Loss: 0.09551649960625616\n"
          ]
        },
        {
          "output_type": "stream",
          "name": "stderr",
          "text": [
            "Validation: 100%|██████████| 69/69 [00:04<00:00, 15.89it/s, loss=0.0793]\n"
          ]
        },
        {
          "output_type": "stream",
          "name": "stdout",
          "text": [
            "Epoch [10/10] Validation Loss: 0.07928538308951302\n"
          ]
        },
        {
          "output_type": "stream",
          "name": "stderr",
          "text": [
            "Testing subset2: 100%|██████████| 38/38 [00:03<00:00, 12.62it/s]\n"
          ]
        },
        {
          "output_type": "stream",
          "name": "stdout",
          "text": [
            "Accuracy: 0.973\n",
            "Wrong counts for the digit 5: 20\n",
            "Wrong counts for the digit 6: 11\n",
            "Wrong counts for the digit 7: 23\n",
            "Wrong counts for the digit 8: 42\n",
            "Wrong counts for the digit 9: 33\n",
            "Test accuracy on MNIST 5...9 for LoRA rank 8: 0.973\n",
            "Number of parameters introduced by LoRA rank 8: 54312\n",
            "---\n",
            "Fine-tuning with LoRA rank 16\n"
          ]
        },
        {
          "output_type": "stream",
          "name": "stderr",
          "text": [
            "Training: 100%|██████████| 161/161 [00:14<00:00, 11.42it/s, loss=0.925]\n"
          ]
        },
        {
          "output_type": "stream",
          "name": "stdout",
          "text": [
            "Epoch [1/10] Train Loss: 0.925086240313068\n"
          ]
        },
        {
          "output_type": "stream",
          "name": "stderr",
          "text": [
            "Validation: 100%|██████████| 69/69 [00:04<00:00, 16.13it/s, loss=0.18]\n"
          ]
        },
        {
          "output_type": "stream",
          "name": "stdout",
          "text": [
            "Epoch [1/10] Validation Loss: 0.18003174619398254\n"
          ]
        },
        {
          "output_type": "stream",
          "name": "stderr",
          "text": [
            "Training: 100%|██████████| 161/161 [00:14<00:00, 11.24it/s, loss=0.182]\n"
          ]
        },
        {
          "output_type": "stream",
          "name": "stdout",
          "text": [
            "Epoch [2/10] Train Loss: 0.18235392819928087\n"
          ]
        },
        {
          "output_type": "stream",
          "name": "stderr",
          "text": [
            "Validation: 100%|██████████| 69/69 [00:05<00:00, 13.41it/s, loss=0.119]\n"
          ]
        },
        {
          "output_type": "stream",
          "name": "stdout",
          "text": [
            "Epoch [2/10] Validation Loss: 0.1187865523810404\n"
          ]
        },
        {
          "output_type": "stream",
          "name": "stderr",
          "text": [
            "Training: 100%|██████████| 161/161 [00:14<00:00, 11.29it/s, loss=0.13]\n"
          ]
        },
        {
          "output_type": "stream",
          "name": "stdout",
          "text": [
            "Epoch [3/10] Train Loss: 0.12998146629712967\n"
          ]
        },
        {
          "output_type": "stream",
          "name": "stderr",
          "text": [
            "Validation: 100%|██████████| 69/69 [00:04<00:00, 16.26it/s, loss=0.0924]\n"
          ]
        },
        {
          "output_type": "stream",
          "name": "stdout",
          "text": [
            "Epoch [3/10] Validation Loss: 0.09244487175474995\n"
          ]
        },
        {
          "output_type": "stream",
          "name": "stderr",
          "text": [
            "Training: 100%|██████████| 161/161 [00:14<00:00, 11.27it/s, loss=0.109]\n"
          ]
        },
        {
          "output_type": "stream",
          "name": "stdout",
          "text": [
            "Epoch [4/10] Train Loss: 0.10917492133351217\n"
          ]
        },
        {
          "output_type": "stream",
          "name": "stderr",
          "text": [
            "Validation: 100%|██████████| 69/69 [00:04<00:00, 14.08it/s, loss=0.0874]\n"
          ]
        },
        {
          "output_type": "stream",
          "name": "stdout",
          "text": [
            "Epoch [4/10] Validation Loss: 0.08735751028618087\n"
          ]
        },
        {
          "output_type": "stream",
          "name": "stderr",
          "text": [
            "Training: 100%|██████████| 161/161 [00:14<00:00, 11.16it/s, loss=0.0968]\n"
          ]
        },
        {
          "output_type": "stream",
          "name": "stdout",
          "text": [
            "Epoch [5/10] Train Loss: 0.09681078839052168\n"
          ]
        },
        {
          "output_type": "stream",
          "name": "stderr",
          "text": [
            "Validation: 100%|██████████| 69/69 [00:04<00:00, 16.24it/s, loss=0.0785]\n"
          ]
        },
        {
          "output_type": "stream",
          "name": "stdout",
          "text": [
            "Epoch [5/10] Validation Loss: 0.07849839640160401\n"
          ]
        },
        {
          "output_type": "stream",
          "name": "stderr",
          "text": [
            "Training: 100%|██████████| 161/161 [00:14<00:00, 11.48it/s, loss=0.0796]\n"
          ]
        },
        {
          "output_type": "stream",
          "name": "stdout",
          "text": [
            "Epoch [6/10] Train Loss: 0.0796057262012492\n"
          ]
        },
        {
          "output_type": "stream",
          "name": "stderr",
          "text": [
            "Validation: 100%|██████████| 69/69 [00:04<00:00, 14.91it/s, loss=0.0708]\n"
          ]
        },
        {
          "output_type": "stream",
          "name": "stdout",
          "text": [
            "Epoch [6/10] Validation Loss: 0.07081103820245767\n"
          ]
        },
        {
          "output_type": "stream",
          "name": "stderr",
          "text": [
            "Training: 100%|██████████| 161/161 [00:14<00:00, 11.06it/s, loss=0.0759]\n"
          ]
        },
        {
          "output_type": "stream",
          "name": "stdout",
          "text": [
            "Epoch [7/10] Train Loss: 0.07590250709666783\n"
          ]
        },
        {
          "output_type": "stream",
          "name": "stderr",
          "text": [
            "Validation: 100%|██████████| 69/69 [00:04<00:00, 16.31it/s, loss=0.0695]\n"
          ]
        },
        {
          "output_type": "stream",
          "name": "stdout",
          "text": [
            "Epoch [7/10] Validation Loss: 0.06946578663706347\n"
          ]
        },
        {
          "output_type": "stream",
          "name": "stderr",
          "text": [
            "Training: 100%|██████████| 161/161 [00:14<00:00, 11.32it/s, loss=0.0677]\n"
          ]
        },
        {
          "output_type": "stream",
          "name": "stdout",
          "text": [
            "Epoch [8/10] Train Loss: 0.06769101048952766\n"
          ]
        },
        {
          "output_type": "stream",
          "name": "stderr",
          "text": [
            "Validation: 100%|██████████| 69/69 [00:04<00:00, 15.63it/s, loss=0.0731]\n"
          ]
        },
        {
          "output_type": "stream",
          "name": "stdout",
          "text": [
            "Epoch [8/10] Validation Loss: 0.07307140650632589\n"
          ]
        },
        {
          "output_type": "stream",
          "name": "stderr",
          "text": [
            "Training: 100%|██████████| 161/161 [00:15<00:00, 10.63it/s, loss=0.06]\n"
          ]
        },
        {
          "output_type": "stream",
          "name": "stdout",
          "text": [
            "Epoch [9/10] Train Loss: 0.06000639681027543\n"
          ]
        },
        {
          "output_type": "stream",
          "name": "stderr",
          "text": [
            "Validation: 100%|██████████| 69/69 [00:04<00:00, 15.89it/s, loss=0.0669]\n"
          ]
        },
        {
          "output_type": "stream",
          "name": "stdout",
          "text": [
            "Epoch [9/10] Validation Loss: 0.06686265673488379\n"
          ]
        },
        {
          "output_type": "stream",
          "name": "stderr",
          "text": [
            "Training: 100%|██████████| 161/161 [00:14<00:00, 11.25it/s, loss=0.0564]\n"
          ]
        },
        {
          "output_type": "stream",
          "name": "stdout",
          "text": [
            "Epoch [10/10] Train Loss: 0.056443258674572346\n"
          ]
        },
        {
          "output_type": "stream",
          "name": "stderr",
          "text": [
            "Validation: 100%|██████████| 69/69 [00:04<00:00, 15.86it/s, loss=0.0745]\n"
          ]
        },
        {
          "output_type": "stream",
          "name": "stdout",
          "text": [
            "Epoch [10/10] Validation Loss: 0.07451433834174405\n"
          ]
        },
        {
          "output_type": "stream",
          "name": "stderr",
          "text": [
            "Testing subset2: 100%|██████████| 38/38 [00:02<00:00, 12.71it/s]\n"
          ]
        },
        {
          "output_type": "stream",
          "name": "stdout",
          "text": [
            "Accuracy: 0.978\n",
            "Wrong counts for the digit 5: 18\n",
            "Wrong counts for the digit 6: 9\n",
            "Wrong counts for the digit 7: 13\n",
            "Wrong counts for the digit 8: 23\n",
            "Wrong counts for the digit 9: 42\n",
            "Test accuracy on MNIST 5...9 for LoRA rank 16: 0.978\n",
            "Number of parameters introduced by LoRA rank 16: 108624\n",
            "---\n",
            "Fine-tuning with LoRA rank 32\n"
          ]
        },
        {
          "output_type": "stream",
          "name": "stderr",
          "text": [
            "Training: 100%|██████████| 161/161 [00:14<00:00, 11.11it/s, loss=0.594]\n"
          ]
        },
        {
          "output_type": "stream",
          "name": "stdout",
          "text": [
            "Epoch [1/10] Train Loss: 0.5941888022681941\n"
          ]
        },
        {
          "output_type": "stream",
          "name": "stderr",
          "text": [
            "Validation: 100%|██████████| 69/69 [00:04<00:00, 16.26it/s, loss=0.127]\n"
          ]
        },
        {
          "output_type": "stream",
          "name": "stdout",
          "text": [
            "Epoch [1/10] Validation Loss: 0.12665997828910316\n"
          ]
        },
        {
          "output_type": "stream",
          "name": "stderr",
          "text": [
            "Training: 100%|██████████| 161/161 [00:14<00:00, 11.11it/s, loss=0.125]\n"
          ]
        },
        {
          "output_type": "stream",
          "name": "stdout",
          "text": [
            "Epoch [2/10] Train Loss: 0.12450964677130213\n"
          ]
        },
        {
          "output_type": "stream",
          "name": "stderr",
          "text": [
            "Validation: 100%|██████████| 69/69 [00:05<00:00, 13.48it/s, loss=0.0914]\n"
          ]
        },
        {
          "output_type": "stream",
          "name": "stdout",
          "text": [
            "Epoch [2/10] Validation Loss: 0.09143364893785422\n"
          ]
        },
        {
          "output_type": "stream",
          "name": "stderr",
          "text": [
            "Training: 100%|██████████| 161/161 [00:14<00:00, 11.12it/s, loss=0.0925]\n"
          ]
        },
        {
          "output_type": "stream",
          "name": "stdout",
          "text": [
            "Epoch [3/10] Train Loss: 0.09252002146904884\n"
          ]
        },
        {
          "output_type": "stream",
          "name": "stderr",
          "text": [
            "Validation: 100%|██████████| 69/69 [00:04<00:00, 15.93it/s, loss=0.0782]\n"
          ]
        },
        {
          "output_type": "stream",
          "name": "stdout",
          "text": [
            "Epoch [3/10] Validation Loss: 0.0782060374006413\n"
          ]
        },
        {
          "output_type": "stream",
          "name": "stderr",
          "text": [
            "Training: 100%|██████████| 161/161 [00:14<00:00, 11.08it/s, loss=0.0717]\n"
          ]
        },
        {
          "output_type": "stream",
          "name": "stdout",
          "text": [
            "Epoch [4/10] Train Loss: 0.07167572089071785\n"
          ]
        },
        {
          "output_type": "stream",
          "name": "stderr",
          "text": [
            "Validation: 100%|██████████| 69/69 [00:05<00:00, 13.42it/s, loss=0.067]\n"
          ]
        },
        {
          "output_type": "stream",
          "name": "stdout",
          "text": [
            "Epoch [4/10] Validation Loss: 0.06695523316823486\n"
          ]
        },
        {
          "output_type": "stream",
          "name": "stderr",
          "text": [
            "Training: 100%|██████████| 161/161 [00:14<00:00, 11.06it/s, loss=0.057]\n"
          ]
        },
        {
          "output_type": "stream",
          "name": "stdout",
          "text": [
            "Epoch [5/10] Train Loss: 0.05704153422844706\n"
          ]
        },
        {
          "output_type": "stream",
          "name": "stderr",
          "text": [
            "Validation: 100%|██████████| 69/69 [00:04<00:00, 16.17it/s, loss=0.0668]\n"
          ]
        },
        {
          "output_type": "stream",
          "name": "stdout",
          "text": [
            "Epoch [5/10] Validation Loss: 0.06676199291900232\n"
          ]
        },
        {
          "output_type": "stream",
          "name": "stderr",
          "text": [
            "Training: 100%|██████████| 161/161 [00:14<00:00, 11.13it/s, loss=0.0496]\n"
          ]
        },
        {
          "output_type": "stream",
          "name": "stdout",
          "text": [
            "Epoch [6/10] Train Loss: 0.049609892981369856\n"
          ]
        },
        {
          "output_type": "stream",
          "name": "stderr",
          "text": [
            "Validation: 100%|██████████| 69/69 [00:05<00:00, 13.36it/s, loss=0.0657]\n"
          ]
        },
        {
          "output_type": "stream",
          "name": "stdout",
          "text": [
            "Epoch [6/10] Validation Loss: 0.06568244346619947\n"
          ]
        },
        {
          "output_type": "stream",
          "name": "stderr",
          "text": [
            "Training: 100%|██████████| 161/161 [00:14<00:00, 10.99it/s, loss=0.0457]\n"
          ]
        },
        {
          "output_type": "stream",
          "name": "stdout",
          "text": [
            "Epoch [7/10] Train Loss: 0.0456510387326342\n"
          ]
        },
        {
          "output_type": "stream",
          "name": "stderr",
          "text": [
            "Validation: 100%|██████████| 69/69 [00:04<00:00, 16.07it/s, loss=0.0715]\n"
          ]
        },
        {
          "output_type": "stream",
          "name": "stdout",
          "text": [
            "Epoch [7/10] Validation Loss: 0.07150011637545042\n"
          ]
        },
        {
          "output_type": "stream",
          "name": "stderr",
          "text": [
            "Training: 100%|██████████| 161/161 [00:14<00:00, 11.13it/s, loss=0.0403]\n"
          ]
        },
        {
          "output_type": "stream",
          "name": "stdout",
          "text": [
            "Epoch [8/10] Train Loss: 0.040334259514170495\n"
          ]
        },
        {
          "output_type": "stream",
          "name": "stderr",
          "text": [
            "Validation: 100%|██████████| 69/69 [00:05<00:00, 13.45it/s, loss=0.0568]\n"
          ]
        },
        {
          "output_type": "stream",
          "name": "stdout",
          "text": [
            "Epoch [8/10] Validation Loss: 0.056778050979356405\n"
          ]
        },
        {
          "output_type": "stream",
          "name": "stderr",
          "text": [
            "Training: 100%|██████████| 161/161 [00:14<00:00, 11.08it/s, loss=0.035]\n"
          ]
        },
        {
          "output_type": "stream",
          "name": "stdout",
          "text": [
            "Epoch [9/10] Train Loss: 0.03496101797957506\n"
          ]
        },
        {
          "output_type": "stream",
          "name": "stderr",
          "text": [
            "Validation: 100%|██████████| 69/69 [00:04<00:00, 16.07it/s, loss=0.0589]\n"
          ]
        },
        {
          "output_type": "stream",
          "name": "stdout",
          "text": [
            "Epoch [9/10] Validation Loss: 0.05886235270325257\n"
          ]
        },
        {
          "output_type": "stream",
          "name": "stderr",
          "text": [
            "Training: 100%|██████████| 161/161 [00:14<00:00, 11.15it/s, loss=0.0342]\n"
          ]
        },
        {
          "output_type": "stream",
          "name": "stdout",
          "text": [
            "Epoch [10/10] Train Loss: 0.03424039631734909\n"
          ]
        },
        {
          "output_type": "stream",
          "name": "stderr",
          "text": [
            "Validation: 100%|██████████| 69/69 [00:05<00:00, 13.50it/s, loss=0.0642]\n"
          ]
        },
        {
          "output_type": "stream",
          "name": "stdout",
          "text": [
            "Epoch [10/10] Validation Loss: 0.064187066393324\n"
          ]
        },
        {
          "output_type": "stream",
          "name": "stderr",
          "text": [
            "Testing subset2: 100%|██████████| 38/38 [00:02<00:00, 17.36it/s]\n"
          ]
        },
        {
          "output_type": "stream",
          "name": "stdout",
          "text": [
            "Accuracy: 0.982\n",
            "Wrong counts for the digit 5: 17\n",
            "Wrong counts for the digit 6: 15\n",
            "Wrong counts for the digit 7: 18\n",
            "Wrong counts for the digit 8: 22\n",
            "Wrong counts for the digit 9: 17\n",
            "Test accuracy on MNIST 5...9 for LoRA rank 32: 0.982\n",
            "Number of parameters introduced by LoRA rank 32: 217248\n",
            "---\n",
            "Fine-tuning with LoRA rank 64\n"
          ]
        },
        {
          "output_type": "stream",
          "name": "stderr",
          "text": [
            "Training: 100%|██████████| 161/161 [00:15<00:00, 10.71it/s, loss=0.423]\n"
          ]
        },
        {
          "output_type": "stream",
          "name": "stdout",
          "text": [
            "Epoch [1/10] Train Loss: 0.4234344021457693\n"
          ]
        },
        {
          "output_type": "stream",
          "name": "stderr",
          "text": [
            "Validation: 100%|██████████| 69/69 [00:04<00:00, 15.70it/s, loss=0.0872]\n"
          ]
        },
        {
          "output_type": "stream",
          "name": "stdout",
          "text": [
            "Epoch [1/10] Validation Loss: 0.08719788394544435\n"
          ]
        },
        {
          "output_type": "stream",
          "name": "stderr",
          "text": [
            "Training: 100%|██████████| 161/161 [00:15<00:00, 10.15it/s, loss=0.0919]\n"
          ]
        },
        {
          "output_type": "stream",
          "name": "stdout",
          "text": [
            "Epoch [2/10] Train Loss: 0.09185235292552421\n"
          ]
        },
        {
          "output_type": "stream",
          "name": "stderr",
          "text": [
            "Validation: 100%|██████████| 69/69 [00:04<00:00, 15.08it/s, loss=0.0671]\n"
          ]
        },
        {
          "output_type": "stream",
          "name": "stdout",
          "text": [
            "Epoch [2/10] Validation Loss: 0.06706960755062924\n"
          ]
        },
        {
          "output_type": "stream",
          "name": "stderr",
          "text": [
            "Training: 100%|██████████| 161/161 [00:15<00:00, 10.62it/s, loss=0.0627]\n"
          ]
        },
        {
          "output_type": "stream",
          "name": "stdout",
          "text": [
            "Epoch [3/10] Train Loss: 0.06271740546600418\n"
          ]
        },
        {
          "output_type": "stream",
          "name": "stderr",
          "text": [
            "Validation: 100%|██████████| 69/69 [00:04<00:00, 14.49it/s, loss=0.0695]\n"
          ]
        },
        {
          "output_type": "stream",
          "name": "stdout",
          "text": [
            "Epoch [3/10] Validation Loss: 0.06948999940431204\n"
          ]
        },
        {
          "output_type": "stream",
          "name": "stderr",
          "text": [
            "Training: 100%|██████████| 161/161 [00:15<00:00, 10.33it/s, loss=0.0478]\n"
          ]
        },
        {
          "output_type": "stream",
          "name": "stdout",
          "text": [
            "Epoch [4/10] Train Loss: 0.047807308359314564\n"
          ]
        },
        {
          "output_type": "stream",
          "name": "stderr",
          "text": [
            "Validation: 100%|██████████| 69/69 [00:04<00:00, 15.77it/s, loss=0.0728]\n"
          ]
        },
        {
          "output_type": "stream",
          "name": "stdout",
          "text": [
            "Epoch [4/10] Validation Loss: 0.07281506748910507\n"
          ]
        },
        {
          "output_type": "stream",
          "name": "stderr",
          "text": [
            "Training: 100%|██████████| 161/161 [00:15<00:00, 10.70it/s, loss=0.0417]\n"
          ]
        },
        {
          "output_type": "stream",
          "name": "stdout",
          "text": [
            "Epoch [5/10] Train Loss: 0.041727379083008685\n"
          ]
        },
        {
          "output_type": "stream",
          "name": "stderr",
          "text": [
            "Validation: 100%|██████████| 69/69 [00:05<00:00, 13.25it/s, loss=0.0701]\n"
          ]
        },
        {
          "output_type": "stream",
          "name": "stdout",
          "text": [
            "Epoch [5/10] Validation Loss: 0.07014894845180106\n"
          ]
        },
        {
          "output_type": "stream",
          "name": "stderr",
          "text": [
            "Training: 100%|██████████| 161/161 [00:15<00:00, 10.65it/s, loss=0.0319]\n"
          ]
        },
        {
          "output_type": "stream",
          "name": "stdout",
          "text": [
            "Epoch [6/10] Train Loss: 0.03191495028625225\n"
          ]
        },
        {
          "output_type": "stream",
          "name": "stderr",
          "text": [
            "Validation: 100%|██████████| 69/69 [00:04<00:00, 15.94it/s, loss=0.0632]\n"
          ]
        },
        {
          "output_type": "stream",
          "name": "stdout",
          "text": [
            "Epoch [6/10] Validation Loss: 0.0631806257609413\n"
          ]
        },
        {
          "output_type": "stream",
          "name": "stderr",
          "text": [
            "Training: 100%|██████████| 161/161 [00:15<00:00, 10.57it/s, loss=0.0277]\n"
          ]
        },
        {
          "output_type": "stream",
          "name": "stdout",
          "text": [
            "Epoch [7/10] Train Loss: 0.027746605639120344\n"
          ]
        },
        {
          "output_type": "stream",
          "name": "stderr",
          "text": [
            "Validation: 100%|██████████| 69/69 [00:05<00:00, 13.31it/s, loss=0.0837]\n"
          ]
        },
        {
          "output_type": "stream",
          "name": "stdout",
          "text": [
            "Epoch [7/10] Validation Loss: 0.08365948117621567\n"
          ]
        },
        {
          "output_type": "stream",
          "name": "stderr",
          "text": [
            "Training: 100%|██████████| 161/161 [00:15<00:00, 10.64it/s, loss=0.0314]\n"
          ]
        },
        {
          "output_type": "stream",
          "name": "stdout",
          "text": [
            "Epoch [8/10] Train Loss: 0.03140555556447054\n"
          ]
        },
        {
          "output_type": "stream",
          "name": "stderr",
          "text": [
            "Validation: 100%|██████████| 69/69 [00:04<00:00, 15.62it/s, loss=0.0687]\n"
          ]
        },
        {
          "output_type": "stream",
          "name": "stdout",
          "text": [
            "Epoch [8/10] Validation Loss: 0.06872264688844672\n"
          ]
        },
        {
          "output_type": "stream",
          "name": "stderr",
          "text": [
            "Training: 100%|██████████| 161/161 [00:15<00:00, 10.33it/s, loss=0.0237]\n"
          ]
        },
        {
          "output_type": "stream",
          "name": "stdout",
          "text": [
            "Epoch [9/10] Train Loss: 0.02372891812202787\n"
          ]
        },
        {
          "output_type": "stream",
          "name": "stderr",
          "text": [
            "Validation: 100%|██████████| 69/69 [00:04<00:00, 14.34it/s, loss=0.0695]\n"
          ]
        },
        {
          "output_type": "stream",
          "name": "stdout",
          "text": [
            "Epoch [9/10] Validation Loss: 0.0695034438825172\n"
          ]
        },
        {
          "output_type": "stream",
          "name": "stderr",
          "text": [
            "Training: 100%|██████████| 161/161 [00:15<00:00, 10.59it/s, loss=0.023]\n"
          ]
        },
        {
          "output_type": "stream",
          "name": "stdout",
          "text": [
            "Epoch [10/10] Train Loss: 0.02301689074483197\n"
          ]
        },
        {
          "output_type": "stream",
          "name": "stderr",
          "text": [
            "Validation: 100%|██████████| 69/69 [00:04<00:00, 15.73it/s, loss=0.064]\n"
          ]
        },
        {
          "output_type": "stream",
          "name": "stdout",
          "text": [
            "Epoch [10/10] Validation Loss: 0.06399053060179712\n"
          ]
        },
        {
          "output_type": "stream",
          "name": "stderr",
          "text": [
            "Testing subset2: 100%|██████████| 38/38 [00:03<00:00, 11.91it/s]\n"
          ]
        },
        {
          "output_type": "stream",
          "name": "stdout",
          "text": [
            "Accuracy: 0.987\n",
            "Wrong counts for the digit 5: 19\n",
            "Wrong counts for the digit 6: 10\n",
            "Wrong counts for the digit 7: 11\n",
            "Wrong counts for the digit 8: 5\n",
            "Wrong counts for the digit 9: 18\n",
            "Test accuracy on MNIST 5...9 for LoRA rank 64: 0.987\n",
            "Number of parameters introduced by LoRA rank 64: 434496\n",
            "---\n"
          ]
        },
        {
          "output_type": "display_data",
          "data": {
            "text/plain": [
              "<Figure size 800x600 with 1 Axes>"
            ],
            "image/png": "[encoded data removed]"
          },
          "metadata": {}
        },
        {
          "output_type": "stream",
          "name": "stdout",
          "text": [
            "LoRA Rank 1: 6789 parameters added\n",
            "LoRA Rank 2: 13578 parameters added\n",
            "LoRA Rank 4: 27156 parameters added\n",
            "LoRA Rank 8: 54312 parameters added\n",
            "LoRA Rank 16: 108624 parameters added\n",
            "LoRA Rank 32: 217248 parameters added\n",
            "LoRA Rank 64: 434496 parameters added\n"
          ]
        }
      ],
      "source": [
        "lora_ranks = [1, 2, 4, 8, 16, 32, 64]\n",
        "lora_test_accuracies = []\n",
        "lora_params_counts = []\n",
        "\n",
        "for rank in lora_ranks:\n",
        "    print(f\"Fine-tuning with LoRA rank {rank}\")\n",
        "\n",
        "    # Create a new instance of the modified network with the current LoRA rank\n",
        "    modified_net = ModifiedClassifier(rank).to(device)\n",
        "\n",
        "    # Fine-tune the model with the current LoRA rank\n",
        "    train_loss_lst_lora, val_loss_lst_lora = train(train_loader_subset2, val_loader_subset2, \"subset2\", modified_net, epochs=10)\n",
        "\n",
        "    # Compute test accuracy on MNIST 5...9 for the current LoRA rank\n",
        "    wrong_counts_subset2_lora = {i: 0 for i in range(5, 10)}\n",
        "    accuracy_subset2_lora = test(test_loader_subset2, \"Testing subset2\", modified_net, wrong_counts_subset2_lora)\n",
        "    lora_test_accuracies.append(accuracy_subset2_lora)\n",
        "\n",
        "    # Count the number of parameters introduced by LoRA layers\n",
        "    lora_params_count = count_lora_parameters(modified_net)\n",
        "    lora_params_counts.append(lora_params_count)\n",
        "\n",
        "    print(f\"Test accuracy on MNIST 5...9 for LoRA rank {rank}: {accuracy_subset2_lora}\")\n",
        "    print(f\"Number of parameters introduced by LoRA rank {rank}: {lora_params_count}\")\n",
        "    print(\"---\")\n",
        "\n",
        "# Plot the test accuracy as a function of LoRA rank\n",
        "plt.figure(figsize=(8, 6))\n",
        "plt.plot(lora_ranks, lora_test_accuracies, marker='o', label='LoRA')\n",
        "plt.axhline(accuracy_finetuned_all, color='r', linestyle='--', label='Fine-tuned (all layers)')\n",
        "plt.xlabel('LoRA Rank')\n",
        "plt.ylabel('Test Accuracy')\n",
        "plt.title('Test Accuracy vs. LoRA Rank')\n",
        "plt.legend()\n",
        "plt.grid(True)\n",
        "plt.show()\n",
        "\n",
        "# Print the number of parameters added by each LoRA rank\n",
        "for rank, params_count in zip(lora_ranks, lora_params_counts):\n",
        "    print(f\"LoRA Rank {rank}: {params_count} parameters added\")"
      ],
      "id": "tjYCc-l1c3jt"
    },
    {
      "cell_type": "markdown",
      "id": "15b52921",
      "metadata": {
        "id": "15b52921"
      },
      "source": [
        "Result analysis:\n",
        "Better rank, more parameters and so better final accuracy.\n",
        "Better accuracy than if we finetuned all layers."
      ]
    },
    {
      "cell_type": "markdown",
      "id": "9b677e4a",
      "metadata": {
        "id": "9b677e4a"
      },
      "source": [
        "Here are a few key pros of LoRA and potential applications we envision:\n",
        "\n",
        "**Pros:**\n",
        "- Adds only a small number of parameters, reducing memory usage\n",
        "- Enables faster fine-tuning by updating only LoRA parameters  \n",
        "- Preserves valuable pre-trained knowledge in frozen base model\n",
        "- Allows flexibility in balancing added parameters vs adaptation capacity\n",
        "\n",
        "**Applications:**\n",
        "- Adapting models to specialized domains (e.g. medical images)\n",
        "- Personalizing models for individual users/preferences\n",
        "- Learning from limited labeled data by leveraging pre-trained models\n",
        "- Continual learning to incrementally adapt to new tasks\n",
        "- Compressing large models while retaining performance\n"
      ]
    }
  ],
  "metadata": {
    "kernelspec": {
      "display_name": "Python 3",
      "language": "python",
      "name": "python3"
    },
    "kfiletag": "2aOSDzdHvY5f",
    "language_info": {
      "codemirror_mode": {
        "name": "ipython",
        "version": 3
      },
      "file_extension": ".py",
      "mimetype": "text/x-python",
      "name": "python",
      "nbconvert_exporter": "python",
      "pygments_lexer": "ipython3",
      "version": "3.11.7"
    },
    "colab": {
      "provenance": []
    }
  },
  "nbformat": 4,
  "nbformat_minor": 5
}